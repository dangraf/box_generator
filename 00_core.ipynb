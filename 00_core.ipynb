{
 "cells": [
  {
   "cell_type": "code",
   "execution_count": null,
   "metadata": {},
   "outputs": [],
   "source": [
    "# default_exp core"
   ]
  },
  {
   "cell_type": "markdown",
   "metadata": {},
   "source": [
    "# module name here\n",
    "\n",
    "> API details."
   ]
  },
  {
   "cell_type": "code",
   "execution_count": null,
   "metadata": {},
   "outputs": [],
   "source": [
    "#hide\n",
    "from nbdev.showdoc import *"
   ]
  },
  {
   "cell_type": "code",
   "execution_count": null,
   "metadata": {},
   "outputs": [],
   "source": [
    "#export\n",
    "import numpy as np\n",
    "import matplotlib.pyplot as plt"
   ]
  },
  {
   "cell_type": "code",
   "execution_count": null,
   "metadata": {},
   "outputs": [],
   "source": [
    "def _get_ax(line):\n",
    "    \"\"\" returns the direction of the line\n",
    "    [param] line: tuple or np.array of length 4, where 0,1 is point 1 and 3,4 is point 2\n",
    "    \"\"\"\n",
    "    if np.isclose(line[0],line[2]) and line[1] != line[3]:\n",
    "        return 1\n",
    "    else:\n",
    "        return 0"
   ]
  },
  {
   "cell_type": "code",
   "execution_count": null,
   "metadata": {},
   "outputs": [],
   "source": [
    "assert _get_ax([0,0,200,0]) == 0\n",
    "assert _get_ax([200,0,0,0]) == 0\n",
    "assert _get_ax([0,200,0,0]) == 1\n",
    "assert _get_ax([0,0,0,200]) == 1"
   ]
  },
  {
   "cell_type": "code",
   "execution_count": null,
   "metadata": {},
   "outputs": [],
   "source": [
    "#export\n",
    "class OneLine(np.ndarray):\n",
    "    def __init__(self, a):\n",
    "        super().__init__()\n",
    "        self.ax=_get_ax(self)\n",
    "        self.ay= (self.ax+1)%2\n",
    "        \n",
    "    def __new__(cls, line):\n",
    "        return np.asarray(line, dtype=float).view(cls)\n",
    "        \n",
    "    def move_xy(self,x,y):\n",
    "        self +=[x,y,x,y]\n",
    "        \n",
    "    def move_in_ax(self, dist):\n",
    "        self[[self.ax, self.ax+2]] += dist\n",
    "        \n",
    "    def move_in_ay(self, dist):\n",
    "        ay = (self.ax+1)%2\n",
    "        self[[ay, ay+2]] += dist\n",
    "        \n",
    "    def to_points(self):\n",
    "        return self.reshape(2,2)\n",
    "    \n",
    "    def __repr__(self):\n",
    "        return f\"l: {self}, ax: {self.ax}\"\n",
    "    \n",
    "    def copy(self):\n",
    "        return OneLine(self)\n",
    "    \n",
    "    def plot(self):\n",
    "        p = self.to_points()\n",
    "        plt.plot(p[:,0],p[:,1])"
   ]
  },
  {
   "cell_type": "code",
   "execution_count": null,
   "metadata": {},
   "outputs": [
    {
     "data": {
      "text/plain": [
       "l: [0. 1. 0. 0.], ax: 1"
      ]
     },
     "execution_count": null,
     "metadata": {},
     "output_type": "execute_result"
    }
   ],
   "source": [
    "l = OneLine([0,0,1,0])\n",
    "assert len(l) == 4\n",
    "assert l.ax==0\n",
    "assert l.ay==1\n",
    "\n",
    "l = OneLine([0,0,0,1])\n",
    "assert len(l) == 4\n",
    "assert l.ax==1\n",
    "assert l.ay==0\n",
    "assert l.dtype == float\n",
    "assert l.to_points().shape ==(2,2)\n",
    "\n",
    "l.ax\n",
    "l[:] = l[[2,3,0,1]]\n",
    "l"
   ]
  },
  {
   "cell_type": "code",
   "execution_count": null,
   "metadata": {},
   "outputs": [
    {
     "data": {
      "image/png": "[encoded data removed]",
      "text/plain": [
       "<Figure size 432x288 with 1 Axes>"
      ]
     },
     "metadata": {
      "needs_background": "light"
     },
     "output_type": "display_data"
    }
   ],
   "source": [
    "l.plot()"
   ]
  },
  {
   "cell_type": "code",
   "execution_count": null,
   "metadata": {},
   "outputs": [],
   "source": [
    "#export\n",
    "def _line2segmented_pointlist(line, min_tab_mm):\n",
    "    \"\"\"\n",
    "    This fuction splits a line into segments that can be used to generate tabs or holes.\n",
    "    The min_tab_mm tells the minimum tabsize but might adjusts it a bit larger to always make \n",
    "    number of tabs an even number so it's symetrical\n",
    "    \\[param] min_tab_mm\n",
    "    \n",
    "    \\[return]: list of points, shape (number of segments, 2(x,y))\n",
    "    \"\"\"\n",
    "    line=OneLine(line)\n",
    "    diff =  line[line.ax+2] - line[line.ax]\n",
    "    if diff<0:\n",
    "        line[:] = line[[2,3,0,1]]\n",
    "    num_tabs = int(abs(diff/min_tab_mm))\n",
    "    if num_tabs%2==0:\n",
    "        num_tabs -=1\n",
    "    tab_size= abs(diff/num_tabs)\n",
    "    all_tabs = np.arange(line[line.ax], line[line.ax+2]+1, tab_size)\n",
    "    ret = np.zeros((len(all_tabs),2))\n",
    "    ret[:,line.ax] = all_tabs\n",
    "    ret[:,line.ay] = line[line.ay]\n",
    "    return ret"
   ]
  },
  {
   "cell_type": "code",
   "execution_count": null,
   "metadata": {},
   "outputs": [
    {
     "data": {
      "text/plain": [
       "array([[  0.        ,   0.        ],\n",
       "       [  0.        ,  15.38461538],\n",
       "       [  0.        ,  30.76923077],\n",
       "       [  0.        ,  46.15384615],\n",
       "       [  0.        ,  61.53846154],\n",
       "       [  0.        ,  76.92307692],\n",
       "       [  0.        ,  92.30769231],\n",
       "       [  0.        , 107.69230769],\n",
       "       [  0.        , 123.07692308],\n",
       "       [  0.        , 138.46153846],\n",
       "       [  0.        , 153.84615385],\n",
       "       [  0.        , 169.23076923],\n",
       "       [  0.        , 184.61538462],\n",
       "       [  0.        , 200.        ]])"
      ]
     },
     "execution_count": null,
     "metadata": {},
     "output_type": "execute_result"
    }
   ],
   "source": [
    "line = [0, 200, 0,0]\n",
    "segments = _line2segmented_pointlist(line, 15)\n",
    "assert len(segments)%2==0\n",
    "segments"
   ]
  },
  {
   "cell_type": "code",
   "execution_count": null,
   "metadata": {},
   "outputs": [],
   "source": [
    "def plot_lines(lines):\n",
    "    for l in lines:\n",
    "        l = l.reshape(2,2)\n",
    "        plt.plot(l[:,0], l[:,1])"
   ]
  },
  {
   "cell_type": "code",
   "execution_count": null,
   "metadata": {},
   "outputs": [],
   "source": [
    "#export\n",
    "def _segments_to_tabs(segments, ax, tabsize):\n",
    "    \"\"\"\n",
    "    genrates tabs from a segmented point list\n",
    "    \"\"\"\n",
    "    arr_x = np.repeat(segments[:,ax], 2)\n",
    "    arr_y = np.tile([0,0, tabsize, tabsize], len(segments)//2+1)[1:-3]\n",
    "    ret = np.zeros((len(arr_x),2))\n",
    "    ret[:,ax] = arr_x\n",
    "    ay =(ax+1)%2\n",
    "    ret[:,ay] = arr_y\n",
    "    points = ret[1:-1,:]\n",
    "    \n",
    "    lines = np.hstack([points[:-1], points[1:]])\n",
    "    if tabsize <0:\n",
    "        lines[:,[ay, ay+2]] -= tabsize\n",
    "        \n",
    "    return lines"
   ]
  },
  {
   "cell_type": "code",
   "execution_count": null,
   "metadata": {},
   "outputs": [
    {
     "data": {
      "image/png": "[encoded data removed]",
      "text/plain": [
       "<Figure size 432x288 with 2 Axes>"
      ]
     },
     "metadata": {
      "needs_background": "light"
     },
     "output_type": "display_data"
    }
   ],
   "source": [
    "line = OneLine([0, 200, 0,0])\n",
    "segments= _line2segmented_pointlist(line, 15)\n",
    "tabs = _segments_to_tabs(segments, line.ax, -5)\n",
    "plt.subplot(1,2,1)\n",
    "plot_lines(tabs)\n",
    "assert np.min(tabs) == 0.0\n",
    "\n",
    "line = OneLine([ 200,0,  0,0])\n",
    "segments = _line2segmented_pointlist(line, 15)\n",
    "tabs = _segments_to_tabs(segments, line.ax, -5)\n",
    "plt.subplot(1,2,2)\n",
    "plot_lines(tabs)\n",
    "assert np.min(tabs) == 0.0"
   ]
  },
  {
   "cell_type": "code",
   "execution_count": null,
   "metadata": {},
   "outputs": [],
   "source": []
  },
  {
   "cell_type": "code",
   "execution_count": null,
   "metadata": {},
   "outputs": [],
   "source": [
    "# todo, how "
   ]
  }
 ],
 "metadata": {
  "kernelspec": {
   "display_name": "Python 3",
   "language": "python",
   "name": "python3"
  }
 },
 "nbformat": 4,
 "nbformat_minor": 2
}
