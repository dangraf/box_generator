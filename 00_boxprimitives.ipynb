{
 "cells": [
  {
   "cell_type": "code",
   "execution_count": null,
   "metadata": {},
   "outputs": [],
   "source": [
    "# default_exp core"
   ]
  },
  {
   "cell_type": "markdown",
   "metadata": {},
   "source": [
    "# Core\n",
    "> Some basic functions to generate lines, tabbed lines and holes that will be used later when to asemble them into sides of a box"
   ]
  },
  {
   "cell_type": "code",
   "execution_count": 1,
   "metadata": {},
   "outputs": [],
   "source": [
    "#hide\n",
    "from nbdev.showdoc import *"
   ]
  },
  {
   "cell_type": "code",
   "execution_count": 2,
   "metadata": {},
   "outputs": [],
   "source": [
    "#export\n",
    "import numpy as np\n",
    "import matplotlib.pyplot as plt"
   ]
  },
  {
   "cell_type": "code",
   "execution_count": 3,
   "metadata": {},
   "outputs": [],
   "source": [
    "#export\n",
    "def _get_ax(line):\n",
    "    \"\"\" returns the direction of the line\n",
    "    [param] line: tuple or np.array of length 4, where 0,1 is point 1 and 3,4 is point 2\n",
    "    \"\"\"\n",
    "    if np.isclose(line[0],line[2]) and line[1] != line[3]:\n",
    "        return 1\n",
    "    else:\n",
    "        return 0"
   ]
  },
  {
   "cell_type": "code",
   "execution_count": 4,
   "metadata": {},
   "outputs": [],
   "source": [
    "#hide\n",
    "assert _get_ax([0,0,200,0]) == 0\n",
    "assert _get_ax([200,0,0,0]) == 0\n",
    "assert _get_ax([0,200,0,0]) == 1\n",
    "assert _get_ax([0,0,0,200]) == 1"
   ]
  },
  {
   "cell_type": "code",
   "execution_count": 6,
   "metadata": {},
   "outputs": [],
   "source": [
    "#export\n",
    "class OneLine(np.ndarray):\n",
    "    \"\"\"\n",
    "    Class that is baisically an np.array with length of 4 to contain two points.\n",
    "    It also have some helper functions to move the line in different directions or plot it.\n",
    "    This class is very simple and are assuming all lines to be orthogonal where the attribute ax tells which direction the line goes.\n",
    "    ax=0, x-direction (index 0)\n",
    "    ax=1, y-direction (index 1)\n",
    "    \"\"\"\n",
    "    def __init__(self, a):\n",
    "        super().__init__()\n",
    "        self.ax=_get_ax(self)\n",
    "        self.ay= (self.ax+1)%2\n",
    "        \n",
    "    def __new__(cls, line):\n",
    "        return np.asarray(line, dtype=float).view(cls)\n",
    "        \n",
    "    def move_xy(self,x,y):\n",
    "        \"Moves line in x,y direction\"\n",
    "        self +=[x,y,x,y]\n",
    "        \n",
    "    def move_in_ax(self, dist):\n",
    "        \"Moves line in the line direction\"\n",
    "        self[[self.ax, self.ax+2]] += dist\n",
    "        \n",
    "    def move_in_ay(self, dist):\n",
    "        \"Moves line orthogonal to it's direction\"\n",
    "        ay = (self.ax+1)%2\n",
    "        self[[ay, ay+2]] += dist\n",
    "        \n",
    "    def to_points(self):\n",
    "        \"Converts line to list of points\"\n",
    "        return self.reshape(2,2)\n",
    "    \n",
    "    def __repr__(self):\n",
    "        return f\"l: {self}, ax: {self.ax}\"\n",
    "    \n",
    "    def copy(self):\n",
    "        return OneLine(self)\n",
    "    \n",
    "    def plot(self, **kwargs):\n",
    "        \"Plots current line\"\n",
    "        p = self.to_points()\n",
    "        plt.plot(p[:,0],p[:,1], **kwargs)\n",
    "    def __array_finalize__(self, obj):\n",
    "        if obj is None: return\n",
    "        self.ax = getattr(obj, 'ax', None)\n",
    "        self.ay = getattr(obj, 'ay', None)"
   ]
  },
  {
   "cell_type": "code",
   "execution_count": 7,
   "metadata": {},
   "outputs": [
    {
     "data": {
      "text/plain": [
       "l: [0. 1. 0. 0.], ax: 1"
      ]
     },
     "execution_count": 7,
     "metadata": {},
     "output_type": "execute_result"
    }
   ],
   "source": [
    "l = OneLine([0,0,1,0])\n",
    "assert len(l) == 4\n",
    "assert l.ax==0\n",
    "assert l.ay==1\n",
    "\n",
    "l = OneLine([0,0,0,1])\n",
    "assert len(l) == 4\n",
    "assert l.ax==1\n",
    "assert l.ay==0\n",
    "assert l.dtype == float\n",
    "assert l.to_points().shape ==(2,2)\n",
    "\n",
    "l.ax\n",
    "l = l[[2,3,0,1]]\n",
    "l"
   ]
  },
  {
   "cell_type": "code",
   "execution_count": 8,
   "metadata": {},
   "outputs": [
    {
     "data": {
      "image/png": "[encoded data removed]",
      "text/plain": [
       "<Figure size 432x288 with 1 Axes>"
      ]
     },
     "metadata": {
      "needs_background": "light"
     },
     "output_type": "display_data"
    }
   ],
   "source": [
    "l.plot()"
   ]
  },
  {
   "cell_type": "code",
   "execution_count": 9,
   "metadata": {},
   "outputs": [],
   "source": [
    "#export\n",
    "def _line2segmented_pointlist(line, min_tab_mm):\n",
    "    \"\"\"\n",
    "    This fuction splits a line into segments that can be used to generate tabs or holes.\n",
    "    The min_tab_mm tells the minimum tabsize but might adjusts it a bit larger to always make \n",
    "    number of tabs an even number so it's symetrical\n",
    "    \\[param] min_tab_mm\n",
    "    \n",
    "    \\[return]: list of points, shape (number of segments, 2(x,y))\n",
    "    \"\"\"\n",
    "    line=OneLine(line)\n",
    "    diff =  line[line.ax+2] - line[line.ax]\n",
    "    if diff<0:\n",
    "        line[:] = line[[2,3,0,1]]\n",
    "    num_tabs = int(abs(diff/min_tab_mm))\n",
    "    if num_tabs%2==0:\n",
    "        num_tabs -=1\n",
    "    tab_size= abs(diff/num_tabs)\n",
    "    all_tabs = np.arange(line[line.ax], line[line.ax+2]+1, tab_size)\n",
    "    ret = np.zeros((len(all_tabs),2))\n",
    "    ret[:,line.ax] = all_tabs\n",
    "    ret[:,line.ay] = line[line.ay]\n",
    "    return ret"
   ]
  },
  {
   "cell_type": "code",
   "execution_count": 10,
   "metadata": {},
   "outputs": [
    {
     "data": {
      "text/plain": [
       "array([[ 10.        ,   0.        ],\n",
       "       [ 10.        ,  15.38461538],\n",
       "       [ 10.        ,  30.76923077],\n",
       "       [ 10.        ,  46.15384615],\n",
       "       [ 10.        ,  61.53846154],\n",
       "       [ 10.        ,  76.92307692],\n",
       "       [ 10.        ,  92.30769231],\n",
       "       [ 10.        , 107.69230769],\n",
       "       [ 10.        , 123.07692308],\n",
       "       [ 10.        , 138.46153846],\n",
       "       [ 10.        , 153.84615385],\n",
       "       [ 10.        , 169.23076923],\n",
       "       [ 10.        , 184.61538462],\n",
       "       [ 10.        , 200.        ]])"
      ]
     },
     "execution_count": 10,
     "metadata": {},
     "output_type": "execute_result"
    },
    {
     "data": {
      "image/png": "[encoded data removed]",
      "text/plain": [
       "<Figure size 432x288 with 1 Axes>"
      ]
     },
     "metadata": {
      "needs_background": "light"
     },
     "output_type": "display_data"
    }
   ],
   "source": [
    "line = [10, 200, 10,0]\n",
    "segments = _line2segmented_pointlist(line, 15)\n",
    "assert len(segments)%2==0\n",
    "plt.plot(segments[:,0], segments[:,1], 'b*')\n",
    "segments"
   ]
  },
  {
   "cell_type": "code",
   "execution_count": 11,
   "metadata": {},
   "outputs": [],
   "source": [
    "def plot_lines(lines):\n",
    "    for l in lines:\n",
    "        l = l.reshape(2,2)\n",
    "        plt.plot(l[:,0], l[:,1])"
   ]
  },
  {
   "cell_type": "code",
   "execution_count": 12,
   "metadata": {},
   "outputs": [],
   "source": [
    "#export\n",
    "def _segments_to_tabs(segments, ax, thickness):\n",
    "    \"\"\"\n",
    "    genrates tabs from a segmented point list\n",
    "    You can change if the first tab is male of female by changing the sign of the tab-size\n",
    "    \"\"\"\n",
    "    arr_x = np.repeat(segments[:,ax], 2)\n",
    "    arr_y = np.tile([0,0, thickness, thickness], len(segments)//2+1)[1:-3]\n",
    "    ret = np.zeros((len(arr_x),2))\n",
    "    ret[:,ax] = arr_x\n",
    "    ay =(ax+1)%2\n",
    "    ret[:,ay] = arr_y\n",
    "    points = ret[1:-1,:]\n",
    "    \n",
    "    lines = np.hstack([points[:-1], points[1:]])\n",
    "    #lines = np.hstack\n",
    "    if thickness <0:\n",
    "        lines[:,[ay, ay+2]] -= thickness\n",
    "        \n",
    "    return lines"
   ]
  },
  {
   "cell_type": "code",
   "execution_count": 13,
   "metadata": {},
   "outputs": [
    {
     "data": {
      "text/plain": [
       "array([[  0.,   0.],\n",
       "       [  0.,  40.],\n",
       "       [  0.,  80.],\n",
       "       [  0., 120.],\n",
       "       [  0., 160.],\n",
       "       [  0., 200.]])"
      ]
     },
     "execution_count": 13,
     "metadata": {},
     "output_type": "execute_result"
    }
   ],
   "source": [
    "l = _line2segmented_pointlist([0,200,0,0], 40)\n",
    "l"
   ]
  },
  {
   "cell_type": "code",
   "execution_count": null,
   "metadata": {},
   "outputs": [],
   "source": [
    "#experiment"
   ]
  },
  {
   "cell_type": "code",
   "execution_count": 93,
   "metadata": {},
   "outputs": [
    {
     "data": {
      "image/png": "[encoded data removed]",
      "text/plain": [
       "<Figure size 432x288 with 4 Axes>"
      ]
     },
     "metadata": {
      "needs_background": "light"
     },
     "output_type": "display_data"
    }
   ],
   "source": [
    "tabsize = 40\n",
    "thickness = 5\n",
    "l = 200\n",
    "\n",
    "line = OneLine([0, l, 0,0])\n",
    "segments= _line2segmented_pointlist(line, tabsize)\n",
    "tabs = _segments_to_tabs(segments, line.ax, -thickness)\n",
    "plt.subplot(2,2,1)\n",
    "plt.title('tabs, negative thickness')\n",
    "plot_lines(tabs)\n",
    "plt.xticks([])\n",
    "assert np.min(tabs) == 0.0\n",
    "\n",
    "tabs = _segments_to_tabs(segments, line.ax, thickness)\n",
    "plt.subplot(2,2,2)\n",
    "plt.title('tabs, positive thickness ')\n",
    "plot_lines(tabs)\n",
    "plt.xticks([])\n",
    "assert np.min(tabs) == 0.0\n",
    "\n",
    "line = OneLine([ l,0,  0,0])\n",
    "segments = _line2segmented_pointlist(line, tabsize)\n",
    "tabs = _segments_to_tabs(segments, line.ax, -thickness)\n",
    "plt.subplot(2,2,3)\n",
    "plt.title('tabs, negative thickness')\n",
    "plot_lines(tabs)\n",
    "assert np.min(tabs) == 0.0\n",
    "\n",
    "tabs = _segments_to_tabs(segments, line.ax, thickness)\n",
    "plt.subplot(2,2,4)\n",
    "plt.title('tabs, positive thickness')\n",
    "plot_lines(tabs)\n",
    "assert np.min(tabs) == 0.0"
   ]
  },
  {
   "cell_type": "code",
   "execution_count": 14,
   "metadata": {},
   "outputs": [],
   "source": [
    "#export\n",
    "def _tabs2holes(tabs, ax):\n",
    "    tabs=tabs.copy()\n",
    "    to_modify = np.arange(0,len(tabs)-1,4)\n",
    "    values_from = np.arange(4,len(tabs),4)\n",
    "    tabs[to_modify,ax] = tabs[values_from,ax]\n",
    "    return tabs[:-1]"
   ]
  },
  {
   "cell_type": "code",
   "execution_count": null,
   "metadata": {},
   "outputs": [],
   "source": [
    "# todo how to generate oposite holes? do we need it? - maybe if we want to mess with the inner walls."
   ]
  },
  {
   "cell_type": "code",
   "execution_count": 31,
   "metadata": {},
   "outputs": [
    {
     "data": {
      "image/png": "[encoded data removed]",
      "text/plain": [
       "<Figure size 432x288 with 2 Axes>"
      ]
     },
     "metadata": {
      "needs_background": "light"
     },
     "output_type": "display_data"
    }
   ],
   "source": [
    "tabsize = 40\n",
    "thickness = 5\n",
    "l = 200\n",
    "\n",
    "line = OneLine([0, l, 0,0])\n",
    "segments = _line2segmented_pointlist(line, tabsize)\n",
    "tabs = _segments_to_tabs(segments, line.ax, thickness)\n",
    "holes = _tabs2holes(tabs, line.ax)\n",
    "plt.subplot(1,2,1)\n",
    "plot_lines(holes)\n",
    "\n",
    "line = OneLine([ l,0,  0,0])\n",
    "segments = _line2segmented_pointlist(line, tabsize)\n",
    "tabs = _segments_to_tabs(segments, line.ax, thickness)\n",
    "holes = _tabs2holes(tabs, line.ax)\n",
    "plt.subplot(1,2,2)\n",
    "plot_lines(holes)"
   ]
  },
  {
   "cell_type": "code",
   "execution_count": 27,
   "metadata": {},
   "outputs": [],
   "source": [
    "class LineObj(np.ndarray):        \n",
    "    def __new__(cls, lines, ax=None):\n",
    "        obj = np.asarray(lines, dtype=float).view(LineObj)\n",
    "        obj.ax = ax\n",
    "        obj.ay = (ax+1)%2\n",
    "        obj.mx=0\n",
    "        obj.my=0\n",
    "        return obj\n",
    "        print('new')\n",
    "        \n",
    "    @classmethod\n",
    "    def generate_tabs(cls, line, min_tab_mm, plywood_thick_mm, comp=True):\n",
    "        line = OneLine(line)\n",
    "            \n",
    "        segments = _line2segmented_pointlist(line, min_tab_mm)\n",
    "\n",
    "        tabs = _segments_to_tabs(segments, line.ax, plywood_thick_mm)\n",
    "        tabs[:,line.ay] += line[line.ay]\n",
    "        tabs[:,line.ay+2] += line[line.ay]\n",
    "\n",
    "        tabs[0,line.ax] += abs(plywood_thick_mm)*comp\n",
    "        tabs[-1,line.ax+2] -= abs(plywood_thick_mm)*comp\n",
    "        return cls(tabs, line.ax)\n",
    "    \n",
    "    @classmethod\n",
    "    def generate_holes(cls, line, min_tab_mm, plywood_thick_mm, comp=True):\n",
    "        \"\"\"\n",
    "        \n",
    "        \\[param] comp: True: generates the holes in the middle of the line. otherwize it't on the top of the line\n",
    "        \"\"\"\n",
    "        line = OneLine(line)\n",
    "            \n",
    "        segments = _line2segmented_pointlist(line, min_tab_mm)\n",
    "\n",
    "        tabs = _segments_to_tabs(segments, line.ax, plywood_thick_mm)\n",
    "        tabs = _tabs2holes(tabs, line.ax)\n",
    "        # move holes to the position of the line\n",
    "        tabs[:,line.ay] += line[line.ay] - comp* plywood_thick_mm/2   \n",
    "        tabs[:,line.ay+2] += line[line.ay] - comp* plywood_thick_mm/2\n",
    "        return cls(tabs, line.ax)   \n",
    "        \n",
    "    def reset_move(self):\n",
    "        self.mx=0\n",
    "        self.my=0\n",
    "        \n",
    "    def move_xy(self, x, y):\n",
    "        self += [x,y,x,y]\n",
    "        self.mx +=x\n",
    "        self.my +=y\n",
    "        \n",
    "    def move_in_ax(self, dist):\n",
    "        self[:,[self.ax, self.ax+2]] += dist\n",
    "        if self.ax==0:\n",
    "            self.mx+=dist\n",
    "        else:\n",
    "            self.my+=dist\n",
    "    def move_in_ay(self, dist):\n",
    "        ay  = (self.ax+1)%2\n",
    "        self[:,[ay, ay+2]] += dist\n",
    "        if self.ax==0:\n",
    "            self.my+=dist\n",
    "        else:\n",
    "            self.mx+=dist\n",
    "        \n",
    "    def plot(self):\n",
    "        for l in self:\n",
    "            l = l.reshape(2,2)\n",
    "            plt.plot(l[:,0], l[:,1])\n",
    "    def __array_finalize__(self, obj):\n",
    "        if obj is None: return\n",
    "        self.ax = getattr(obj, 'ax', None)\n",
    "        self.ay = getattr(obj, 'ay', None)\n",
    "        self.ax = getattr(obj, 'mx', None)\n",
    "        self.ay = getattr(obj, 'my', None)"
   ]
  },
  {
   "cell_type": "code",
   "execution_count": null,
   "metadata": {},
   "outputs": [],
   "source": [
    "# testa med negativ thickness.\n"
   ]
  },
  {
   "cell_type": "code",
   "execution_count": 18,
   "metadata": {},
   "outputs": [],
   "source": [
    "lines = np.array([[1,2,3,4],[5,6,7,8]])"
   ]
  },
  {
   "cell_type": "code",
   "execution_count": 21,
   "metadata": {},
   "outputs": [
    {
     "data": {
      "image/png": "[encoded data removed]",
      "text/plain": [
       "<Figure size 432x288 with 1 Axes>"
      ]
     },
     "metadata": {
      "needs_background": "light"
     },
     "output_type": "display_data"
    }
   ],
   "source": [
    "l = LineObj.generate_tabs([200,0,0,0], min_tab_mm=40, plywood_thick_mm=4.3)\n",
    "l.plot()"
   ]
  },
  {
   "cell_type": "code",
   "execution_count": 30,
   "metadata": {},
   "outputs": [
    {
     "data": {
      "image/png": "[encoded data removed]",
      "text/plain": [
       "<Figure size 432x288 with 1 Axes>"
      ]
     },
     "metadata": {
      "needs_background": "light"
     },
     "output_type": "display_data"
    }
   ],
   "source": [
    "l = LineObj.generate_holes([200,0,0,0], min_tab_mm=40, plywood_thick_mm=4.3)\n",
    "l.plot()"
   ]
  },
  {
   "cell_type": "code",
   "execution_count": null,
   "metadata": {},
   "outputs": [],
   "source": [
    "# how to do to generate the oposite? of holes?"
   ]
  },
  {
   "cell_type": "code",
   "execution_count": 21,
   "metadata": {},
   "outputs": [
    {
     "name": "stdout",
     "output_type": "stream",
     "text": [
      "Converted 00_core.ipynb.\n",
      "Converted 01_generator.ipynb.\n",
      "Converted index.ipynb.\n"
     ]
    }
   ],
   "source": [
    "#hide\n",
    "from nbdev.export import *\n",
    "notebook2script()"
   ]
  },
  {
   "cell_type": "code",
   "execution_count": null,
   "metadata": {},
   "outputs": [],
   "source": []
  }
 ],
 "metadata": {
  "kernelspec": {
   "display_name": "Python 3",
   "language": "python",
   "name": "python3"
  },
  "language_info": {
   "codemirror_mode": {
    "name": "ipython",
    "version": 3
   },
   "file_extension": ".py",
   "mimetype": "text/x-python",
   "name": "python",
   "nbconvert_exporter": "python",
   "pygments_lexer": "ipython3",
   "version": "3.7.9"
  }
 },
 "nbformat": 4,
 "nbformat_minor": 2
}
