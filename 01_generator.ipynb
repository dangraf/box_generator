{
 "cells": [
  {
   "cell_type": "code",
   "execution_count": 1,
   "metadata": {},
   "outputs": [],
   "source": [
    "# default_exp core\n",
    "import numpy as np\n",
    "import matplotlib.pyplot as plt\n",
    "try:\n",
    "    import svgwrite\n",
    "except:\n",
    "    !pip install svgwrite\n",
    "    import svgwrite\n",
    "from svgwrite import cm, mm\n",
    "    \n",
    "try:\n",
    "    import shapely\n",
    "except:\n",
    "    !pip install shapely\n",
    "    import shapely\n",
    "from shapely.geometry import LineString, Point\n",
    "from  functools import partial\n",
    "%matplotlib inline"
   ]
  },
  {
   "cell_type": "code",
   "execution_count": 2,
   "metadata": {},
   "outputs": [],
   "source": [
    "#export\n",
    "def get_ax(line):\n",
    "    \"\"\" returns the axis of where the move is heading\"\"\"\n",
    "    return 1 if line[0] == line[2] else 0\n",
    "\n",
    "def line2segmented_pointlist(line, min_tab_mm):\n",
    "    line=np.array(line)\n",
    "    ax = get_ax(line)\n",
    "    ay = (ax+1)%2 \n",
    "    diff =  line[ax+2] - line[ax]\n",
    "    if diff<0:\n",
    "        line = line[[2,3,0,1]]\n",
    "    num_tabs = int(abs(diff/min_tab_mm))\n",
    "    if num_tabs%2==0:\n",
    "        num_tabs -=1\n",
    "    tab_size= abs(diff/num_tabs)\n",
    "    all_tabs = np.arange(line[ax], line[ax+2]+1, tab_size)\n",
    "    ret = np.zeros((len(all_tabs),2))\n",
    "    ret[:,ax] = all_tabs\n",
    "    ret[:,ay] = line[ay]\n",
    "    return ret, ax\n",
    "        \n",
    "    "
   ]
  },
  {
   "cell_type": "code",
   "execution_count": 3,
   "metadata": {},
   "outputs": [
    {
     "data": {
      "text/plain": [
       "(array([[  0.        ,   0.        ],\n",
       "        [  0.        ,  15.38461538],\n",
       "        [  0.        ,  30.76923077],\n",
       "        [  0.        ,  46.15384615],\n",
       "        [  0.        ,  61.53846154],\n",
       "        [  0.        ,  76.92307692],\n",
       "        [  0.        ,  92.30769231],\n",
       "        [  0.        , 107.69230769],\n",
       "        [  0.        , 123.07692308],\n",
       "        [  0.        , 138.46153846],\n",
       "        [  0.        , 153.84615385],\n",
       "        [  0.        , 169.23076923],\n",
       "        [  0.        , 184.61538462],\n",
       "        [  0.        , 200.        ]]),\n",
       " 1)"
      ]
     },
     "execution_count": 3,
     "metadata": {},
     "output_type": "execute_result"
    }
   ],
   "source": [
    "line = [0, 200, 0,0]\n",
    "segments, ax = line2segmented_pointlist(line, 15)\n",
    "segments, ax"
   ]
  },
  {
   "cell_type": "code",
   "execution_count": 4,
   "metadata": {},
   "outputs": [],
   "source": [
    "#export\n",
    "def plot_lines(lines):\n",
    "    for l in lines:\n",
    "        l = l.reshape(2,2)\n",
    "        plt.plot(l[:,0], l[:,1])"
   ]
  },
  {
   "cell_type": "code",
   "execution_count": 5,
   "metadata": {},
   "outputs": [],
   "source": [
    "#export\n",
    "def segments_to_tabs(segments, ax, tabsize):\n",
    "    arr_x = np.repeat(segments[:,ax], 2)\n",
    "    arr_y = np.tile([0,0, tabsize, tabsize], len(segments)//2+1)[1:-3]\n",
    "    ret = np.zeros((len(arr_x),2))\n",
    "    ret[:,ax] = arr_x\n",
    "    ret[:,(ax+1)%2] = arr_y\n",
    "    points = ret[1:-1,:]\n",
    "    return np.hstack([points[:-1], points[1:]])\n",
    "    "
   ]
  },
  {
   "cell_type": "code",
   "execution_count": 6,
   "metadata": {},
   "outputs": [
    {
     "data": {
      "image/png": "[encoded data removed]",
      "text/plain": [
       "<Figure size 432x288 with 1 Axes>"
      ]
     },
     "metadata": {
      "needs_background": "light"
     },
     "output_type": "display_data"
    }
   ],
   "source": [
    "tabs = segments_to_tabs(segments, ax, 5)\n",
    "plot_lines(tabs)\n",
    "#tabs"
   ]
  },
  {
   "cell_type": "code",
   "execution_count": 7,
   "metadata": {},
   "outputs": [],
   "source": [
    "#export\n",
    "def tabs2holes(tabs, ax):\n",
    "    tabs=tabs.copy()\n",
    "    to_modify = np.arange(0,len(tabs)-1,4)\n",
    "    values_from = np.arange(4,len(tabs),4)\n",
    "    tabs[to_modify,ax] = tabs[values_from,ax]\n",
    "    return tabs[:-1]\n",
    "    "
   ]
  },
  {
   "cell_type": "code",
   "execution_count": 8,
   "metadata": {},
   "outputs": [
    {
     "data": {
      "image/png": "[encoded data removed]",
      "text/plain": [
       "<Figure size 432x288 with 1 Axes>"
      ]
     },
     "metadata": {
      "needs_background": "light"
     },
     "output_type": "display_data"
    }
   ],
   "source": [
    "holes =tabs2holes(tabs, ax)\n",
    "plot_lines(holes)"
   ]
  },
  {
   "cell_type": "code",
   "execution_count": 9,
   "metadata": {},
   "outputs": [],
   "source": [
    "#export\n",
    "def generate_tabbed_side(line, min_tab_size, plywood_thick, comp=True):\n",
    "    segments, ax = line2segmented_pointlist(line, min_tab_size)\n",
    "    ay = (ax+1)%2\n",
    "    tabs = segments_to_tabs(segments, ax, plywood_thick)\n",
    "    tabs[:,ay] += line[ay]\n",
    "    tabs[:,ay+2] += line[ay]\n",
    "\n",
    "    tabs[0,ax] += abs(plywood_thick)*comp\n",
    "    tabs[-1,ax+2] -= abs(plywood_thick)*comp\n",
    "    return tabs\n",
    "    "
   ]
  },
  {
   "cell_type": "code",
   "execution_count": 10,
   "metadata": {},
   "outputs": [
    {
     "data": {
      "image/png": "[encoded data removed]",
      "text/plain": [
       "<Figure size 432x288 with 1 Axes>"
      ]
     },
     "metadata": {
      "needs_background": "light"
     },
     "output_type": "display_data"
    }
   ],
   "source": [
    "tabs = generate_tabbed_side([0,300,0,0], 30, 5 )\n",
    "plot_lines(tabs)"
   ]
  },
  {
   "cell_type": "code",
   "execution_count": 11,
   "metadata": {},
   "outputs": [],
   "source": [
    "#export\n",
    "def generate_holes_side(line, min_tab_size, plywood_thick):\n",
    "    segments, ax = line2segmented_pointlist(line, min_tab_size)\n",
    "    ay = (ax+1)%2\n",
    "    tabs = segments_to_tabs(segments, ax, plywood_thick)\n",
    "    tabs[:,ay] += line[ay]\n",
    "    tabs[:,ay+2] += line[ay]\n",
    "    tabs[0,ax] += abs(plywood_thick)\n",
    "    tabs[-1,ax+2] -= abs(plywood_thick)\n",
    "    return tabs"
   ]
  },
  {
   "cell_type": "code",
   "execution_count": 50,
   "metadata": {},
   "outputs": [],
   "source": [
    "#export\n",
    "class Side2:\n",
    "    def __init__(self, line, height):\n",
    "        self.x_dir = get_ax(line)\n",
    "        self.height = height\n",
    "        self.y_dir = (self.x_dir+1)%2\n",
    "        self.mx, self.my = 0,0\n",
    "        self.base = np.array(line)\n",
    "\n",
    "        self.l = np.array([line[0],line[1], line[0],line[1] ])\n",
    "        self.l[2+self.y_dir] += height\n",
    "        self.r = np.array([line[2], line[3], line[2], line[3]])\n",
    "        self.r[2+self.y_dir] += height\n",
    "        self.t =np.array([self.l[2], self.l[3], self.r[2], self.r[3]])\n",
    "        self.result = None\n",
    "        \n",
    "    def generate_bottomside(self, min_tab_size, thick):\n",
    "        bottom = generate_tabbed_side(self.base, min_tab_size, thick )\n",
    "        top = generate_tabbed_side(self.t, min_tab_size, -thick )\n",
    "        left = generate_tabbed_side(self.l, min_tab_size, thick )\n",
    "        right = generate_tabbed_side(self.r, min_tab_size, -thick )\n",
    "        self.result = np.vstack([bottom, top,left,right])\n",
    "    \n",
    "    def generate_outer_wall(self, min_tab_size, thick):\n",
    "        tabs = generate_tabbed_side(self.base, min_tab_size, thick )\n",
    "        holes = tabs2holes(tabs,self.x_dir)\n",
    "        holes[:,[self.y_dir, self.y_dir+2]] += thick\n",
    "        \n",
    "        d = 1 if self.x_dir==0 else -1\n",
    "        left = generate_tabbed_side(self.l, min_tab_size, d*thick,comp=False )\n",
    "        right = generate_tabbed_side(self.r, min_tab_size, -d*thick,comp=False )\n",
    "        top = self.t.copy()\n",
    "        base = self.base.copy()\n",
    "        if self.x_dir:\n",
    "            right[:, [self.x_dir, self.x_dir+2] ] -=thick\n",
    "            left[:, [self.x_dir, self.x_dir+2] ] +=thick\n",
    "        else:\n",
    "            top += [thick, 0, -thick,0]\n",
    "            base +=[thick, 0, -thick,0]\n",
    "        self.result = np.vstack([holes, left, right, top, base])\n",
    "        \n",
    "    def add_holes(self, line, min_tab_size, thick):\n",
    "        line = np.array(line)\n",
    "        ax = get_ax(line)\n",
    "        line += [self.mx, self.my, self.mx, self.my]\n",
    "        assert len(line)==4\n",
    "        tabs = generate_tabbed_side(line, min_tab_size, thick )\n",
    "        holes = tabs2holes(tabs,ax)\n",
    "        self.result = np.vstack([self.result, holes])\n",
    "        \n",
    "    def generate_inner_wall(self, min_tab_size, thick):\n",
    "        idx = [self.y_dir,self.y_dir+2]\n",
    "        tabs1 = generate_tabbed_side(self.base, min_tab_size, thick, comp=True )\n",
    "        tabs1[:,[idx]] += thick\n",
    "        tabs2 = generate_tabbed_side(self.l, min_tab_size, thick,comp=False)\n",
    "        tabs2[0, self.y_dir] += thick*2\n",
    "        tabs2[-1, self.y_dir+2] += thick\n",
    "\n",
    "        tabs3 = generate_tabbed_side(self.r, min_tab_size, -thick, comp=False)\n",
    "        tabs3[0, self.y_dir] += thick*2\n",
    "        tabs3[-1, self.y_dir+2] += thick\n",
    "        top = self.t.copy()\n",
    "        top[self.x_dir] +=thick\n",
    "        top[[self.y_dir, self.y_dir+2]] += thick\n",
    "        top[self.x_dir+2] -=thick\n",
    "            \n",
    "        self.result = np.vstack([tabs1, tabs2, tabs3,top ])\n",
    "        #if self.x_dir==1:\n",
    "        #    self.move(-thick, 0)\n",
    "        #else:\n",
    "        #    self.move(0,-thick)\n",
    "        #self.mx, self.my =0,0\n",
    "        \n",
    "    def flip_h(self):\n",
    "        self.result[:,[0,2]] = -self.result[:,[0,2]] + np.max(self.result[:,[0,2]])\n",
    "        \n",
    "    def flip_v(self):\n",
    "        self.result[:,[1,3]] = -self.result[:,[1,3]] + np.max(self.result[:,[1,3]])\n",
    "        \n",
    "    def move(self, x, y):\n",
    "        self.mx +=x\n",
    "        self.my +=y\n",
    "        self.result += [x,y,x,y]\n",
    "        \n",
    "    def plot(self):\n",
    "        plot_lines(self.result)\n",
    "        #plot_lines([self.base, self.l, self.r, self.t])\n",
    "        \n",
    "    def add_inner_walls(self,other_side, min_tab_size, thick):\n",
    "        if other_side.x_dir == self.x_dir:\n",
    "            return  # they do not intersect\n",
    "        myline = LineString(self.base.reshape(2,2))\n",
    "        oline = LineString(other_side.base.reshape(2,2))\n",
    "        pint = myline.intersection(oline)\n",
    "        if pint._is_empty is True:\n",
    "            # no intersection\n",
    "\n",
    "            return\n",
    "        \n",
    "        p = pint.x, pint.y\n",
    "        i_line = np.array([p[0],\n",
    "                  p[1],\n",
    "                  p[0],\n",
    "                  p[1]])\n",
    "        i_line[self.y_dir+2] +=self.height+thick\n",
    "        i_line[self.y_dir] +=thick*2\n",
    "        \n",
    "        \n",
    "        if all(p == other_side.base[:2]) or all(p== other_side.base[2:]):\n",
    "            i_line[[self.x_dir, self.x_dir+2]] -=thick/2\n",
    "            i_line[self.y_dir] = 0\n",
    "            i_line[self.y_dir+2] = self.height\n",
    "            tabs = generate_tabbed_side(i_line, min_tab_size, thick )\n",
    "            holes = tabs2holes(tabs,self.y_dir)\n",
    "            holes += [self.mx, self.my, self.mx, self.my]\n",
    "            self.result =np.vstack([self.result, holes])\n",
    "        else:\n",
    "            half = self.height/2\n",
    "            i_line[self.y_dir]-= thick\n",
    "            l1, l2 = i_line.copy(), i_line.copy()\n",
    "            if self.x_dir==1:\n",
    "                dim = 0\n",
    "                d= -1\n",
    "            else:\n",
    "                dim = 2\n",
    "                d = 1\n",
    "            dim = 2 if self.x_dir==1 else 0\n",
    "            l1[self.y_dir+dim] +=d*half\n",
    "            l2[self.y_dir+dim] +=d*half\n",
    "            l1[[self.x_dir, self.x_dir+2]] += d*thick/2\n",
    "            l2[[self.x_dir, self.x_dir+2]] -= d*thick/2\n",
    "            if self.x_dir==1:\n",
    "                #l1[self.y_dir+dim] +=thick\n",
    "                #l2[self.y_dir+dim] +=thick\n",
    "                l3 = [l1[self.y_dir+dim],\n",
    "                      l1[self.x_dir+dim],\n",
    "                      l2[self.y_dir+dim],\n",
    "                      l2[self.x_dir+dim]]\n",
    "            else:\n",
    "                l3 = [l1[self.x_dir+dim],\n",
    "                      l1[self.y_dir+dim],\n",
    "                      l2[self.x_dir+dim],\n",
    "                      l2[self.y_dir+dim]]\n",
    "            slitz = np.vstack([l1, l2, l3])\n",
    "            slitz += [self.mx, self.my, self.mx, self.my]\n",
    "            self.result =np.vstack([self.result, slitz])"
   ]
  },
  {
   "cell_type": "code",
   "execution_count": 51,
   "metadata": {},
   "outputs": [
    {
     "data": {
      "image/png": "[encoded data removed]",
      "text/plain": [
       "<Figure size 1080x360 with 4 Axes>"
      ]
     },
     "metadata": {
      "needs_background": "light"
     },
     "output_type": "display_data"
    }
   ],
   "source": [
    "line1 = np.array([0,0, 0,200])\n",
    "line2 = np.array([-10, 100, 200, 100])\n",
    "plt.figure(figsize=(15,5))\n",
    "plt.subplot(1,4,1)\n",
    "plot_lines(np.array([line1, line2]))\n",
    "\n",
    "s1 = Side2(line1, 50)\n",
    "s2 = Side2(line2, 50)\n",
    "\n",
    "s1.generate_inner_wall( 15,5)\n",
    "s1.move(15,15)\n",
    "s1.add_inner_walls(s2, 15, 5)\n",
    "plt.subplot(1,4,2)\n",
    "s1.plot()\n",
    "\n",
    "line1 = np.array([0,0, 200,0])\n",
    "line2 = np.array([100, -10, 100, 200])\n",
    "plt.subplot(1,4,3)\n",
    "plot_lines(np.array([line1, line2]))\n",
    "\n",
    "s1 = Side2(line1, 50)\n",
    "s2 = Side2(line2, 50)\n",
    "\n",
    "s1.generate_inner_wall( 15,5)\n",
    "s1.add_inner_walls(s2, 15, 5)\n",
    "plt.subplot(1,4,4)\n",
    "s1.plot()"
   ]
  },
  {
   "cell_type": "code",
   "execution_count": 39,
   "metadata": {},
   "outputs": [
    {
     "data": {
      "image/png": "[encoded data removed]",
      "text/plain": [
       "<Figure size 432x288 with 2 Axes>"
      ]
     },
     "metadata": {
      "needs_background": "light"
     },
     "output_type": "display_data"
    }
   ],
   "source": [
    "line1 = np.array([0,0, 0,200])\n",
    "line2 = np.array([0, 100, 200, 100])\n",
    "plt.figure()\n",
    "plt.subplot(1,2,1)\n",
    "plot_lines(np.array([line1, line2]))\n",
    "\n",
    "s1 = Side2(line1, 50)\n",
    "s2 = Side2(line2, 50)\n",
    "\n",
    "s1.generate_inner_wall( 15,5)\n",
    "s1.add_inner_walls(s2, 15, 5)\n",
    "plt.subplot(1,2,2)\n",
    "s1.plot()\n"
   ]
  },
  {
   "cell_type": "code",
   "execution_count": 16,
   "metadata": {},
   "outputs": [
    {
     "data": {
      "image/png": "[encoded data removed]",
      "text/plain": [
       "<Figure size 432x288 with 2 Axes>"
      ]
     },
     "metadata": {
      "needs_background": "light"
     },
     "output_type": "display_data"
    }
   ],
   "source": [
    "line1 = np.array([0,0, 200, 0,])\n",
    "line2 = np.array([100,0, 100, 150])\n",
    "\n",
    "plt.figure()\n",
    "plt.subplot(1,2,1)\n",
    "plot_lines(np.array([line1, line2]))\n",
    "\n",
    "s1 = Side2(line1, 50)\n",
    "s2 = Side2(line2, 50)\n",
    "s1.generate_inner_wall( 15,5)\n",
    "s1.add_inner_walls(s2, 15,5)\n",
    "plt.subplot(1,2,2)\n",
    "s1.plot()"
   ]
  },
  {
   "cell_type": "markdown",
   "metadata": {},
   "source": [
    "# Holes example"
   ]
  },
  {
   "cell_type": "code",
   "execution_count": 17,
   "metadata": {},
   "outputs": [
    {
     "data": {
      "image/png": "[encoded data removed]",
      "text/plain": [
       "<Figure size 720x360 with 2 Axes>"
      ]
     },
     "metadata": {
      "needs_background": "light"
     },
     "output_type": "display_data"
    }
   ],
   "source": [
    "\n",
    "l = [0,0, 0, 300]\n",
    "line = [0,150, 50,150]\n",
    "s = Side2(l, 45 )\n",
    "s.generate_inner_wall(7,4)\n",
    "s.add_holes(line, min_tab_size=15, thick=5)\n",
    "plt.figure(figsize=(10,5))\n",
    "plt.subplot(1,2,1)\n",
    "s.plot()\n",
    "\n",
    "l = [0,0, 300, 0]\n",
    "line = [0,25, 300,25]\n",
    "s = Side2(l, 45 )\n",
    "s.generate_inner_wall(7,4)\n",
    "s.add_holes(line, min_tab_size=15, thick=5)\n",
    "plt.subplot(1,2,2)\n",
    "s.plot()"
   ]
  },
  {
   "cell_type": "markdown",
   "metadata": {},
   "source": [
    "# Walls example"
   ]
  },
  {
   "cell_type": "code",
   "execution_count": 18,
   "metadata": {},
   "outputs": [
    {
     "data": {
      "image/png": "[encoded data removed]",
      "text/plain": [
       "<Figure size 432x288 with 2 Axes>"
      ]
     },
     "metadata": {
      "needs_background": "light"
     },
     "output_type": "display_data"
    }
   ],
   "source": [
    "l = [0, 0, 200, 0]\n",
    "s = Side2(l, 50)\n",
    "s.generate_outer_wall(7, 4)\n",
    "plt.subplot(1,2,1)\n",
    "s.plot()\n",
    "\n",
    "l = [0, 0, 0, 200]\n",
    "s = Side2(l, 50)\n",
    "s.generate_outer_wall(7, 4)\n",
    "plt.subplot(1,2,2)\n",
    "s.plot()\n"
   ]
  },
  {
   "cell_type": "markdown",
   "metadata": {},
   "source": [
    "# Bottom Side example"
   ]
  },
  {
   "cell_type": "code",
   "execution_count": 19,
   "metadata": {},
   "outputs": [
    {
     "data": {
      "image/png": "[encoded data removed]",
      "text/plain": [
       "<Figure size 432x288 with 1 Axes>"
      ]
     },
     "metadata": {
      "needs_background": "light"
     },
     "output_type": "display_data"
    }
   ],
   "source": [
    "l = [0,0,300,0]\n",
    "s = Side2(l, 200)\n",
    "s.generate_bottomside(30, 4)\n",
    "s.plot()"
   ]
  },
  {
   "cell_type": "markdown",
   "metadata": {},
   "source": [
    "# Box Generator"
   ]
  },
  {
   "cell_type": "code",
   "execution_count": 20,
   "metadata": {},
   "outputs": [],
   "source": [
    "#export\n",
    "def gen_points(x, y):\n",
    "    return [0,0], [0, y], [x, y ], [x, 0]\n",
    "\n",
    "class BoxGen2:\n",
    "    def __init__(self, \n",
    "                 playwood_thickness,\n",
    "                x_size_mm, y_size_mm,\n",
    "                height_mm,\n",
    "                min_tabsize_mm=30):\n",
    "        self.thickness = playwood_thickness\n",
    "        self.x = x_size_mm\n",
    "        self.y = y_size_mm\n",
    "        self.height = height_mm\n",
    "        self.min_tabsize = min_tabsize_mm\n",
    "        bottom_line = [0,0, x_size_mm, 0 ]\n",
    "        self.bottom = Side2(bottom_line, y_size_mm)\n",
    "        self.bottom.generate_bottomside(min_tabsize_mm, playwood_thickness)\n",
    "        \n",
    "        lr_line = [0,0,0, y_size_mm]\n",
    "        left =  Side2(lr_line, height_mm)\n",
    "        left.generate_outer_wall(min_tabsize_mm, playwood_thickness)\n",
    "        left.move(-height_mm, 0)\n",
    "        \n",
    "        right =  Side2(lr_line, height_mm)\n",
    "        right.generate_outer_wall(min_tabsize_mm, playwood_thickness)\n",
    "        right.move(-height_mm*2,0)\n",
    "        \n",
    "        \n",
    "        ul_line = [0,0,x_size_mm, 0]\n",
    "        upper =  Side2(ul_line, height_mm)\n",
    "        upper.generate_outer_wall(min_tabsize_mm, playwood_thickness)\n",
    "        upper.move(0,-height_mm)\n",
    "        \n",
    "        lower = Side2(ul_line, height_mm)\n",
    "        lower.generate_outer_wall(min_tabsize_mm, playwood_thickness)\n",
    "        lower.move(0,-height_mm*2)\n",
    "        \n",
    "        self.outer_walls = [left, right, upper, lower]\n",
    "        self.inner_walls = list()\n",
    "        \n",
    "    \n",
    "    def plot_outline(self):\n",
    "        p1,p2,p3,p4 =gen_points(self.x, self.y)\n",
    "        lines = np.array([p1 + p2, p2+p3, p3+p4, p4+p1])\n",
    "        plot_lines(lines)\n",
    "        for s in self.inner_walls:\n",
    "            plot_lines([s.base])\n",
    "\n",
    "        \n",
    "    def add_innerwall(self, p1,p2):\n",
    "        line = np.array(p1+p2, dtype=float)\n",
    "        iwall = Side2(line, self.height)\n",
    "        iwall.generate_inner_wall(self.min_tabsize, self.thickness)\n",
    "        \n",
    "        ay = (get_ax(line)+1)%2\n",
    "        \n",
    "        line[[ay, ay+2]] -=self.thickness/2\n",
    "        # todo, hantera att \n",
    "        self.bottom.add_holes(line, self.min_tabsize, self.thickness)\n",
    "        #if iwall.x_dir==0:\n",
    "        #x,y = 0, self.x+ self.height\n",
    "        num = len([s for s in self.inner_walls if s.x_dir==iwall.x_dir])\n",
    "        #else:\n",
    "        x_start = np.min(iwall.result[:,0])\n",
    "        y_start = np.min(iwall.result[:,1])\n",
    "        x,y = -x_start, -y_start        ## hur många\n",
    "        if iwall.x_dir==0:\n",
    "            y+= num*self.height + self.y\n",
    "        else:\n",
    "            x+= num *self.height + self.x\n",
    "        \n",
    "        print(x,y)\n",
    "            \n",
    "        iwall.move(x,y)\n",
    "        self.inner_walls.append(iwall)\n",
    "        \n",
    "        for owall in self.outer_walls:\n",
    "            owall.add_inner_walls(iwall, self.min_tabsize, self.thickness )\n",
    "            \n",
    "    def update_inner_walls(self):\n",
    "        for s1 in self.inner_walls:\n",
    "            for s2 in self.inner_walls:\n",
    "                if s1 is s2:\n",
    "                    continue\n",
    "                else:\n",
    "                    s1.add_inner_walls(s2, self.min_tabsize, self.thickness)\n",
    "        \n",
    "    def plot(self):\n",
    "        self.bottom.plot()\n",
    "        for i, s in enumerate(self.outer_walls):\n",
    "            s.plot()\n",
    "            \n",
    "        for s in self.inner_walls:\n",
    "            s.plot()\n",
    "    \n",
    "    @staticmethod\n",
    "    def to_dwg(obj, dwg):\n",
    "        for r in obj.result:\n",
    "            dwg.add(dwg.line((r[0]*mm,r[1]*mm),(r[2]*mm,r[3]*mm), stroke=\"#000\"))\n",
    "        \n",
    "    def export_to_svg(self, filename):\n",
    "        dwg = svgwrite.Drawing(filename, profile='tiny')\n",
    "        func1 = partial(self.to_dwg, dwg=dwg)\n",
    "        func1(self.bottom)\n",
    "        list(map(func1, self.outer_walls))\n",
    "        list(map(func1, self.inner_walls))\n",
    "        dwg.save()"
   ]
  },
  {
   "cell_type": "code",
   "execution_count": 34,
   "metadata": {},
   "outputs": [
    {
     "name": "stdout",
     "output_type": "stream",
     "text": [
      "97.0 -30.0\n"
     ]
    },
    {
     "ename": "AttributeError",
     "evalue": "'LineString' object has no attribute 'x'",
     "output_type": "error",
     "traceback": [
      "\u001b[0;31m---------------------------------------------------------------------------\u001b[0m",
      "\u001b[0;31mAttributeError\u001b[0m                            Traceback (most recent call last)",
      "\u001b[0;32m<ipython-input-34-9c65d1b38922>\u001b[0m in \u001b[0;36m<module>\u001b[0;34m\u001b[0m\n\u001b[1;32m      5\u001b[0m                 min_tabsize_mm=10)\n\u001b[1;32m      6\u001b[0m \u001b[0;34m\u001b[0m\u001b[0m\n\u001b[0;32m----> 7\u001b[0;31m \u001b[0mbox\u001b[0m\u001b[0;34m.\u001b[0m\u001b[0madd_innerwall\u001b[0m\u001b[0;34m(\u001b[0m\u001b[0;34m(\u001b[0m\u001b[0;36m50\u001b[0m\u001b[0;34m,\u001b[0m\u001b[0;36m30\u001b[0m\u001b[0;34m)\u001b[0m\u001b[0;34m,\u001b[0m \u001b[0;34m(\u001b[0m\u001b[0;36m50\u001b[0m\u001b[0;34m,\u001b[0m\u001b[0;36m100\u001b[0m\u001b[0;34m)\u001b[0m\u001b[0;34m)\u001b[0m\u001b[0;34m\u001b[0m\u001b[0;34m\u001b[0m\u001b[0m\n\u001b[0m\u001b[1;32m      8\u001b[0m \u001b[0;31m#box.add_innerwall((100,0), (100,100))\u001b[0m\u001b[0;34m\u001b[0m\u001b[0;34m\u001b[0m\u001b[0;34m\u001b[0m\u001b[0m\n\u001b[1;32m      9\u001b[0m \u001b[0mbox\u001b[0m\u001b[0;34m.\u001b[0m\u001b[0madd_innerwall\u001b[0m\u001b[0;34m(\u001b[0m\u001b[0;34m(\u001b[0m\u001b[0;36m0\u001b[0m\u001b[0;34m,\u001b[0m\u001b[0;36m30\u001b[0m\u001b[0;34m)\u001b[0m\u001b[0;34m,\u001b[0m \u001b[0;34m(\u001b[0m\u001b[0;36m150\u001b[0m\u001b[0;34m,\u001b[0m\u001b[0;36m30\u001b[0m\u001b[0;34m)\u001b[0m\u001b[0;34m)\u001b[0m\u001b[0;34m\u001b[0m\u001b[0;34m\u001b[0m\u001b[0m\n",
      "\u001b[0;32m<ipython-input-20-38873bd49982>\u001b[0m in \u001b[0;36madd_innerwall\u001b[0;34m(self, p1, p2)\u001b[0m\n\u001b[1;32m     77\u001b[0m \u001b[0;34m\u001b[0m\u001b[0m\n\u001b[1;32m     78\u001b[0m         \u001b[0;32mfor\u001b[0m \u001b[0mowall\u001b[0m \u001b[0;32min\u001b[0m \u001b[0mself\u001b[0m\u001b[0;34m.\u001b[0m\u001b[0mouter_walls\u001b[0m\u001b[0;34m:\u001b[0m\u001b[0;34m\u001b[0m\u001b[0;34m\u001b[0m\u001b[0m\n\u001b[0;32m---> 79\u001b[0;31m             \u001b[0mowall\u001b[0m\u001b[0;34m.\u001b[0m\u001b[0madd_inner_walls\u001b[0m\u001b[0;34m(\u001b[0m\u001b[0miwall\u001b[0m\u001b[0;34m,\u001b[0m \u001b[0mself\u001b[0m\u001b[0;34m.\u001b[0m\u001b[0mmin_tabsize\u001b[0m\u001b[0;34m,\u001b[0m \u001b[0mself\u001b[0m\u001b[0;34m.\u001b[0m\u001b[0mthickness\u001b[0m \u001b[0;34m)\u001b[0m\u001b[0;34m\u001b[0m\u001b[0;34m\u001b[0m\u001b[0m\n\u001b[0m\u001b[1;32m     80\u001b[0m \u001b[0;34m\u001b[0m\u001b[0m\n\u001b[1;32m     81\u001b[0m     \u001b[0;32mdef\u001b[0m \u001b[0mupdate_inner_walls\u001b[0m\u001b[0;34m(\u001b[0m\u001b[0mself\u001b[0m\u001b[0;34m)\u001b[0m\u001b[0;34m:\u001b[0m\u001b[0;34m\u001b[0m\u001b[0;34m\u001b[0m\u001b[0m\n",
      "\u001b[0;32m<ipython-input-32-59a9da552e11>\u001b[0m in \u001b[0;36madd_inner_walls\u001b[0;34m(self, other_side, min_tab_size, thick)\u001b[0m\n\u001b[1;32m     99\u001b[0m             \u001b[0;32mreturn\u001b[0m\u001b[0;34m\u001b[0m\u001b[0;34m\u001b[0m\u001b[0m\n\u001b[1;32m    100\u001b[0m \u001b[0;34m\u001b[0m\u001b[0m\n\u001b[0;32m--> 101\u001b[0;31m         \u001b[0mp\u001b[0m \u001b[0;34m=\u001b[0m \u001b[0mpint\u001b[0m\u001b[0;34m.\u001b[0m\u001b[0mx\u001b[0m\u001b[0;34m,\u001b[0m \u001b[0mpint\u001b[0m\u001b[0;34m.\u001b[0m\u001b[0my\u001b[0m\u001b[0;34m\u001b[0m\u001b[0;34m\u001b[0m\u001b[0m\n\u001b[0m\u001b[1;32m    102\u001b[0m \u001b[0;34m\u001b[0m\u001b[0m\n\u001b[1;32m    103\u001b[0m         i_line = np.array([p[0],\n",
      "\u001b[0;31mAttributeError\u001b[0m: 'LineString' object has no attribute 'x'"
     ]
    }
   ],
   "source": [
    "box = BoxGen2(playwood_thickness=3,\n",
    "                x_size_mm=150, \n",
    "              y_size_mm=100,\n",
    "                height_mm=50,\n",
    "                min_tabsize_mm=10)\n",
    "\n",
    "box.add_innerwall((50,30), (50,100))\n",
    "#box.add_innerwall((100,0), (100,100))\n",
    "box.add_innerwall((0,30), (150,30))\n",
    "box.update_inner_walls()\n",
    "box.plot_outline()"
   ]
  },
  {
   "cell_type": "code",
   "execution_count": 28,
   "metadata": {},
   "outputs": [],
   "source": [
    "box.export_to_svg('test5.svg')"
   ]
  },
  {
   "cell_type": "markdown",
   "metadata": {},
   "source": [
    "![Alt text](./test.svg)"
   ]
  },
  {
   "cell_type": "code",
   "execution_count": 31,
   "metadata": {},
   "outputs": [
    {
     "data": {
      "image/png": "[encoded data removed]",
      "text/plain": [
       "<Figure size 1080x1080 with 1 Axes>"
      ]
     },
     "metadata": {
      "needs_background": "light"
     },
     "output_type": "display_data"
    }
   ],
   "source": [
    "plt.figure(figsize=(15,15))\n",
    "box.plot()"
   ]
  },
  {
   "cell_type": "code",
   "execution_count": null,
   "metadata": {},
   "outputs": [],
   "source": []
  },
  {
   "cell_type": "code",
   "execution_count": null,
   "metadata": {},
   "outputs": [],
   "source": []
  },
  {
   "cell_type": "code",
   "execution_count": null,
   "metadata": {},
   "outputs": [],
   "source": []
  },
  {
   "cell_type": "code",
   "execution_count": 127,
   "metadata": {},
   "outputs": [],
   "source": [
    "#export\n",
    "class Side:\n",
    "    def __init__(self, name, p0, p1, p2, p3, ax):\n",
    "        \"\"\" p0-p3 is the points of the box in clock-wise order\"\"\"\n",
    "        self.name=name\n",
    "        self.ax = ax\n",
    "        self.left = np.array(p0 + p1)\n",
    "        self.top = np.array(p1 + p2)\n",
    "        self.right = np.array(p2 + p3)\n",
    "        self.bottom = np.array(p3 + p0)\n",
    "        self.resut = None\n",
    "        self.mx=0\n",
    "        self.my=0\n",
    "        \n",
    "    def generate_bottomside(self, min_tab_size, thick): \n",
    "        bottom =generate_tabbed_side(self.bottom, min_tab_size, thick )\n",
    "        top = generate_tabbed_side(self.top, min_tab_size, -thick )\n",
    "        left = generate_tabbed_side(self.left, min_tab_size, thick )\n",
    "        right = generate_tabbed_side(self.right, min_tab_size, -thick )\n",
    "        self.result = np.vstack([bottom, top,left,right])\n",
    "        \n",
    "\n",
    "        \n",
    "    \n",
    "    def generate_ul_side(self, min_tab_size, thick):\n",
    "        tabs = generate_tabbed_side(self.bottom, min_tab_size, thick )\n",
    "        holes = tabs2holes(tabs,0)\n",
    "        holes += [0, thick, 0, thick]  \n",
    "        left = generate_tabbed_side(self.left, min_tab_size, -thick,comp=False )\n",
    "        left += [thick,0, thick,0]\n",
    "        right = generate_tabbed_side(self.right, min_tab_size, thick,comp=False )\n",
    "        right -= [thick,0, thick,0]\n",
    "        self.result = np.vstack([holes, left, right, self.top, self.bottom])\n",
    "\n",
    "    def generate_lr_side(self,min_tab_size, thick):\n",
    "        tabs = generate_tabbed_side(self.left, min_tab_size, thick )\n",
    "        holes = tabs2holes(tabs,1)\n",
    "        holes += [thick, 0, thick, 0] \n",
    "        \n",
    "        top = generate_tabbed_side(self.top, min_tab_size, -thick,comp=False )   \n",
    "        bottom = generate_tabbed_side(self.bottom, min_tab_size, thick,comp=False ) \n",
    "        left = self.left.copy()\n",
    "        left += [0, thick,0, -thick]\n",
    "        right = self.right.copy()\n",
    "        right += [0, -thick,0, thick]\n",
    "        self.result = np.vstack([holes, top, bottom, left, right])\n",
    "        \n",
    "    def add_holes(self, line, min_tab_size, thick):\n",
    "        line = np.array(line)\n",
    "        ax = get_ax(line)\n",
    "        line += [self.mx, self.my, self.mx, self.my]\n",
    "        assert len(line)==4\n",
    "        tabs = generate_tabbed_side(line, min_tab_size, thick )\n",
    "        holes = tabs2holes(tabs,ax)\n",
    "        self.result = np.vstack([self.result, holes])\n",
    "        \n",
    "        \n",
    "    def generate_inner_wall(self, min_tab_size, thick):\n",
    "        tabs1 = generate_tabbed_side(self.bottom, min_tab_size, thick, comp=True )\n",
    "        tabs1 += [0, -thick, 0, -thick]\n",
    "        tabs2 = generate_tabbed_side(self.left, min_tab_size, thick,comp=False)\n",
    "        \n",
    "        tabs3 = generate_tabbed_side(self.right, min_tab_size, -thick, comp=False)\n",
    "        top = self.top.copy()\n",
    "        top +=[thick,0,-thick,0]\n",
    "            \n",
    "        self.result = np.vstack([tabs1, tabs2, tabs3,top ])\n",
    "        self.move(0, thick)\n",
    "        self.mx, self.my =0, 0\n",
    "        \n",
    "    def flip_h(self):\n",
    "        self.result[:,[0,2]] = -self.result[:,[0,2]] + np.max(self.result[:,[0,2]])\n",
    "        \n",
    "    def flip_v(self):\n",
    "        self.result[:,[1,3]] = -self.result[:,[1,3]] + np.max(self.result[:,[1,3]])\n",
    "        \n",
    "    def move(self, x, y):\n",
    "        self.mx +=x\n",
    "        self.my +=y\n",
    "        self.result += [x,y,x,y]\n",
    "        \n",
    "    def plot(self):\n",
    "        plot_lines(self.result)\n"
   ]
  },
  {
   "cell_type": "code",
   "execution_count": 14,
   "metadata": {},
   "outputs": [
    {
     "data": {
      "image/png": "[encoded data removed]",
      "text/plain": [
       "<Figure size 432x288 with 1 Axes>"
      ]
     },
     "metadata": {
      "needs_background": "light"
     },
     "output_type": "display_data"
    }
   ],
   "source": [
    "x=300\n",
    "y=50-5\n",
    "s = Side('inner', \n",
    "        p0= [0,0],\n",
    "        p1 = [0,y],\n",
    "        p2 = [x,y],\n",
    "        p3 = [x,0],\n",
    "        ax=ax)\n",
    "s.generate_inner_wall(min_tab_size=15, thick=5)\n",
    "line = np.array([0,25,300,25])\n",
    "s.add_holes(line, min_tab_size=15, thick=5)\n",
    "s.plot()"
   ]
  },
  {
   "cell_type": "code",
   "execution_count": 481,
   "metadata": {},
   "outputs": [
    {
     "data": {
      "image/png": "[encoded data removed]",
      "text/plain": [
       "<Figure size 432x288 with 1 Axes>"
      ]
     },
     "metadata": {
      "needs_background": "light"
     },
     "output_type": "display_data"
    }
   ],
   "source": [
    "x=300\n",
    "y=50-5\n",
    "s = Side('inner', \n",
    "        p0= [0,0],\n",
    "        p1 = [0,y],\n",
    "        p2 = [x,y],\n",
    "        p3 = [x,0])\n",
    "s.generate_inner_wall(min_tab_size=15, thick=5)\n",
    "s.plot()"
   ]
  },
  {
   "cell_type": "code",
   "execution_count": 207,
   "metadata": {},
   "outputs": [
    {
     "name": "stdout",
     "output_type": "stream",
     "text": [
      "[300   0   0   0] 30 5\n"
     ]
    },
    {
     "data": {
      "image/png": "[encoded data removed]",
      "text/plain": [
       "<Figure size 432x288 with 1 Axes>"
      ]
     },
     "metadata": {
      "needs_background": "light"
     },
     "output_type": "display_data"
    }
   ],
   "source": [
    "x=300\n",
    "y=200\n",
    "s = Side('bottom', \n",
    "        p0= [0,0],\n",
    "        p1 = [0,y],\n",
    "        p2 = [x,y],\n",
    "        p3 = [x,0])\n",
    "s.generate_bottomside(min_tab_size=30, thick=5)\n",
    "s.plot()"
   ]
  },
  {
   "cell_type": "code",
   "execution_count": 549,
   "metadata": {},
   "outputs": [
    {
     "data": {
      "image/png": "[encoded data removed]",
      "text/plain": [
       "<Figure size 720x216 with 2 Axes>"
      ]
     },
     "metadata": {
      "needs_background": "light"
     },
     "output_type": "display_data"
    }
   ],
   "source": [
    "x=50\n",
    "y=300\n",
    "s = Side('left', \n",
    "        p0= [0,0],\n",
    "        p1 = [0,y],\n",
    "        p2 = [x,y],\n",
    "        p3 = [x,0])\n",
    "s.generate_lr_side(min_tab_size=15, thick=5)\n",
    "plt.figure(figsize=(10,3))\n",
    "plt.subplot(1,2,1)\n",
    "s.plot()\n",
    "\n",
    "plt.subplot(1,2,2)\n",
    "plt.title('flipped_h')\n",
    "s.flip_h()\n",
    "s.plot()"
   ]
  },
  {
   "cell_type": "code",
   "execution_count": 550,
   "metadata": {},
   "outputs": [
    {
     "data": {
      "image/png": "[encoded data removed]",
      "text/plain": [
       "<Figure size 720x216 with 2 Axes>"
      ]
     },
     "metadata": {
      "needs_background": "light"
     },
     "output_type": "display_data"
    }
   ],
   "source": [
    "x=300\n",
    "y=50\n",
    "s = Side('lower', \n",
    "        p0= [0,0],\n",
    "        p1 = [0,y],\n",
    "        p2 = [x,y],\n",
    "        p3 = [x,0])\n",
    "\n",
    "s.generate_ul_side(min_tab_size=15, thick=5)\n",
    "plt.figure(figsize=(10,3))\n",
    "plt.subplot(1,2,1)\n",
    "s.plot()\n",
    "plt.subplot(1,2,2)\n",
    "plt.title('flipped_v')\n",
    "s.flip_v()\n",
    "s.plot()"
   ]
  },
  {
   "cell_type": "code",
   "execution_count": 551,
   "metadata": {},
   "outputs": [],
   "source": [
    "def gen_points(x, y):\n",
    "    return [0,0], [0, y], [x, y ], [x, 0]"
   ]
  },
  {
   "cell_type": "code",
   "execution_count": 552,
   "metadata": {},
   "outputs": [],
   "source": [
    "s = Side('bottom', *gen_points(200,300))"
   ]
  },
  {
   "cell_type": "code",
   "execution_count": 553,
   "metadata": {},
   "outputs": [],
   "source": [
    "class BoxInfo:\n",
    "    def __init__(self, \n",
    "                 playwood_thickness,\n",
    "                x_size_mm, y_size_mm,\n",
    "                height_mm,\n",
    "                min_tabsize_mm=30):\n",
    "        self.thickness = playwood_thickness\n",
    "        self.x = x_size_mm\n",
    "        self.y = y_size_mm\n",
    "        self.height = height_mm\n",
    "        self.min_tabsize = min_tabsize_mm\n",
    "        self.inner_walls_lines = list()\n",
    "        self.isides = list()\n",
    "        \n",
    "\n",
    "\n",
    "        self.bottom = Side('bottom', *gen_points(x_size_mm, y_size_mm))\n",
    "        self.bottom.generate_bottomside(min_tabsize_mm, playwood_thickness)\n",
    "        \n",
    "        \n",
    "        self.left = Side('left',*gen_points(height_mm, y_size_mm))\n",
    "        self.left.generate_lr_side(min_tabsize_mm, playwood_thickness)\n",
    "        self.left.flip_h()\n",
    "        self.left.move(-height_mm, 0)\n",
    "        \n",
    "        self.right = Side('right',*gen_points(height_mm, y_size_mm))\n",
    "        self.right.generate_lr_side(min_tabsize_mm, playwood_thickness)\n",
    "        self.right.move(x_size_mm, 0)\n",
    "        \n",
    "        self.upper = Side('upper',*gen_points(x_size_mm, height_mm))\n",
    "        self.upper.generate_ul_side(min_tabsize_mm, playwood_thickness)\n",
    "        self.upper.move(0, y_size_mm)\n",
    "        \n",
    "        self.lower = Side('lower',*gen_points(x_size_mm, height_mm))\n",
    "        self.lower.generate_ul_side(min_tabsize_mm, playwood_thickness)\n",
    "        self.lower.flip_v()\n",
    "        self.lower.move(0, -height_mm)\n",
    "    \n",
    "    def plot_outline(self):\n",
    "        p1,p2,p3,p4 =gen_points(self.x, self.y)\n",
    "        lines = np.array([p1 + p2, p2+p3, p3+p4, p4+p1])\n",
    "        plot_lines(lines)\n",
    "        plot_lines(self.inner_walls_lines)\n",
    "        \n",
    "    def add_innerwall(self, p1,p2):\n",
    "        line = np.array(p1+p2)\n",
    "        self.inner_walls_lines.append(line)\n",
    "        \n",
    "        ax = get_ax(line)\n",
    "        width = abs(line[ax] - line[ax+2])\n",
    "        h = self.height-self.thickness\n",
    "        #(x,y) = (width, h) if ax==0 else (h, width)\n",
    "        s = Side('left',*gen_points(width, h))\n",
    "        s.generate_inner_wall(self.min_tabsize, self.thickness)\n",
    "        s.move(0, self.thickness)\n",
    "        self.isides.append(s)\n",
    "        self.bottom.add_holes(line, self.min_tabsize, self.thickness)\n",
    "        if ax==0:\n",
    "            l1 = [self.thickness*2, line[1], self.height, line[1]]\n",
    "            self.right.add_holes(l1, self.min_tabsize, self.thickness )\n",
    "            l2 = [0, line[1], self.height-self.thickness*2, line[1]]\n",
    "            self.left.add_holes(l2, self.min_tabsize, self.thickness )\n",
    "        else:\n",
    "            l1 = [line[0], self.thickness, line[0], self.height]\n",
    "            self.upper.add_holes(l1, self.min_tabsize, self.thickness )\n",
    "            l2 = [line[0], 0, line[0], self.height - self.thickness*2]\n",
    "            self.lower.add_holes(l2, self.min_tabsize, self.thickness )\n",
    "            \n",
    "        # todo, addera slits för skärande innerväggar.\n",
    "        \n",
    "        \n",
    "        \n",
    "    def plot(self):\n",
    "        self.bottom.plot()\n",
    "        self.left.plot()\n",
    "        self.right.plot()\n",
    "        self.upper.plot()\n",
    "        self.lower.plot()\n",
    "        move_y = -self.height*2-self.thickness\n",
    "        for s in self.isides:\n",
    "            s.move(0, move_y)  # move just to prevent plots from laying on top of eachother\n",
    "            s.plot()\n",
    "            s.move(0, -move_y)\n",
    "            move_y-=self.height\n",
    "    \n",
    "    @staticmethod\n",
    "    def to_dwg(obj, dwg):\n",
    "        for r in obj.result:\n",
    "            dwg.add(dwg.line((r[0],r[1]),(r[2],r[3]), stroke=\"#000\"))\n",
    "        \n",
    "    def export_to_svg(self, filename):\n",
    "        dwg = svgwrite.Drawing(filename, profile='tiny')\n",
    "        func1 = partial(self.to_dwg, dwg=dwg)\n",
    "        list(map(func1, [self.bottom, self.left, self.right, self.upper, self.lower]))\n",
    "        dwg.save()\n",
    "                               \n",
    "    "
   ]
  },
  {
   "cell_type": "code",
   "execution_count": 554,
   "metadata": {},
   "outputs": [
    {
     "data": {
      "image/png": "[encoded data removed]",
      "text/plain": [
       "<Figure size 432x288 with 1 Axes>"
      ]
     },
     "metadata": {
      "needs_background": "light"
     },
     "output_type": "display_data"
    }
   ],
   "source": [
    "box = BoxInfo(playwood_thickness=5,\n",
    "                x_size_mm=300, y_size_mm=200,\n",
    "                height_mm=50,\n",
    "                min_tabsize_mm=10)\n",
    "box.plot()"
   ]
  },
  {
   "cell_type": "code",
   "execution_count": 555,
   "metadata": {},
   "outputs": [
    {
     "data": {
      "image/png": "[encoded data removed]",
      "text/plain": [
       "<Figure size 432x288 with 1 Axes>"
      ]
     },
     "metadata": {
      "needs_background": "light"
     },
     "output_type": "display_data"
    }
   ],
   "source": [
    "box.add_innerwall((50,0), (50,200))\n",
    "box.add_innerwall((0,150), (300,150))\n",
    "box.plot_outline()"
   ]
  },
  {
   "cell_type": "code",
   "execution_count": 541,
   "metadata": {},
   "outputs": [
    {
     "data": {
      "image/png": "[encoded data removed]",
      "text/plain": [
       "<Figure size 1080x720 with 1 Axes>"
      ]
     },
     "metadata": {
      "needs_background": "light"
     },
     "output_type": "display_data"
    }
   ],
   "source": [
    "plt.figure(figsize=(15,10))\n",
    "box.plot()"
   ]
  },
  {
   "cell_type": "code",
   "execution_count": null,
   "metadata": {},
   "outputs": [],
   "source": [
    "# todo, find intersecting midwalls."
   ]
  },
  {
   "cell_type": "code",
   "execution_count": null,
   "metadata": {},
   "outputs": [],
   "source": [
    "1. skapa en SVG fil av hela skiten.\n",
    "2. få till att man kan skapa avdelningar i lådan.\n"
   ]
  }
 ],
 "metadata": {
  "kernelspec": {
   "display_name": "Python 3",
   "language": "python",
   "name": "python3"
  },
  "language_info": {
   "codemirror_mode": {
    "name": "ipython",
    "version": 3
   },
   "file_extension": ".py",
   "mimetype": "text/x-python",
   "name": "python",
   "nbconvert_exporter": "python",
   "pygments_lexer": "ipython3",
   "version": "3.8.5"
  }
 },
 "nbformat": 4,
 "nbformat_minor": 4
}
