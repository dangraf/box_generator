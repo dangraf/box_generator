{
 "cells": [
  {
   "cell_type": "code",
   "execution_count": null,
   "metadata": {
    "hide_input": true
   },
   "outputs": [],
   "source": [
    "from nbdev import *"
   ]
  },
  {
   "cell_type": "code",
   "execution_count": null,
   "metadata": {},
   "outputs": [],
   "source": [
    "%nbdev_default_export gen\n",
    "import numpy as np\n",
    "import matplotlib.pyplot as plt\n",
    "try:\n",
    "    import svgwrite\n",
    "except:\n",
    "    !pip install svgwrite\n",
    "    import svgwrite\n",
    "from svgwrite import cm, mm\n",
    "    \n",
    "try:\n",
    "    import shapely\n",
    "except:\n",
    "    !pip install shapely\n",
    "    import shapely\n",
    "from shapely.geometry import LineString, Point\n",
    "from  functools import partial\n",
    "%matplotlib inline"
   ]
  },
  {
   "cell_type": "code",
   "execution_count": null,
   "metadata": {},
   "outputs": [],
   "source": [
    "# Basic Line functions"
   ]
  },
  {
   "cell_type": "code",
   "execution_count": null,
   "metadata": {},
   "outputs": [],
   "source": [
    "%nbdev_export\n",
    "def _get_ax(line):\n",
    "    \"\"\" returns the direction of the line\n",
    "    [param] line: tuple or np.array of length 4, where 0,1 is point 1 and 3,4 is point 2\n",
    "    \"\"\"\n",
    "    if np.isclose(line[0],line[2]) and line[1] != line[3]:\n",
    "        return 1\n",
    "    else:\n",
    "        return 0\n",
    "\n",
    "def _line2segmented_pointlist(line, min_tab_mm):\n",
    "    \"\"\"\n",
    "    This fuction splits a line into segments that can be used to generate tabs or holes.\n",
    "    The min_tab_mm tells the minimum tabsize but might adjusts it a bit larger to always make \n",
    "    number of tabs an even number so it's symetrical\n",
    "    \\[param] min_tab_mm\n",
    "    \n",
    "    \\[return]: list of points, shape (number of segments, 2(x,y))\n",
    "    \"\"\"\n",
    "    line=np.array(line)\n",
    "    ax = _get_ax(line)\n",
    "    ay = (ax+1)%2 \n",
    "    diff =  line[ax+2] - line[ax]\n",
    "    if diff<0:\n",
    "        line = line[[2,3,0,1]]\n",
    "    num_tabs = int(abs(diff/min_tab_mm))\n",
    "    if num_tabs%2==0:\n",
    "        num_tabs -=1\n",
    "    tab_size= abs(diff/num_tabs)\n",
    "    all_tabs = np.arange(line[ax], line[ax+2]+1, tab_size)\n",
    "    ret = np.zeros((len(all_tabs),2))\n",
    "    ret[:,ax] = all_tabs\n",
    "    ret[:,ay] = line[ay]\n",
    "    return ret, ax"
   ]
  },
  {
   "cell_type": "code",
   "execution_count": null,
   "metadata": {},
   "outputs": [],
   "source": [
    "assert _get_ax([0,0,200,0]) == 0\n",
    "assert _get_ax([200,0,0,0]) == 0\n",
    "assert _get_ax([0,200,0,0]) == 1\n",
    "assert _get_ax([0,0,0,200]) == 1"
   ]
  },
  {
   "cell_type": "code",
   "execution_count": null,
   "metadata": {},
   "outputs": [
    {
     "data": {
      "text/plain": [
       "(array([[  0.        ,   0.        ],\n",
       "        [  0.        ,  15.38461538],\n",
       "        [  0.        ,  30.76923077],\n",
       "        [  0.        ,  46.15384615],\n",
       "        [  0.        ,  61.53846154],\n",
       "        [  0.        ,  76.92307692],\n",
       "        [  0.        ,  92.30769231],\n",
       "        [  0.        , 107.69230769],\n",
       "        [  0.        , 123.07692308],\n",
       "        [  0.        , 138.46153846],\n",
       "        [  0.        , 153.84615385],\n",
       "        [  0.        , 169.23076923],\n",
       "        [  0.        , 184.61538462],\n",
       "        [  0.        , 200.        ]]),\n",
       " 1)"
      ]
     },
     "execution_count": null,
     "metadata": {},
     "output_type": "execute_result"
    }
   ],
   "source": [
    "line = [0, 200, 0,0]\n",
    "segments, ax = _line2segmented_pointlist(line, 15)\n",
    "assert len(segments)%2==0\n",
    "\n",
    "segments, ax"
   ]
  },
  {
   "cell_type": "code",
   "execution_count": null,
   "metadata": {},
   "outputs": [],
   "source": [
    "def plot_lines(lines):\n",
    "    for l in lines:\n",
    "        l = l.reshape(2,2)\n",
    "        plt.plot(l[:,0], l[:,1])"
   ]
  },
  {
   "cell_type": "code",
   "execution_count": null,
   "metadata": {},
   "outputs": [],
   "source": [
    "%nbdev_export\n",
    "def _segments_to_tabs(segments, ax, tabsize):\n",
    "    \"\"\"\n",
    "    genrates tabs from a segmented point list\n",
    "    \"\"\"\n",
    "    arr_x = np.repeat(segments[:,ax], 2)\n",
    "    arr_y = np.tile([0,0, tabsize, tabsize], len(segments)//2+1)[1:-3]\n",
    "    ret = np.zeros((len(arr_x),2))\n",
    "    ret[:,ax] = arr_x\n",
    "    ret[:,(ax+1)%2] = arr_y\n",
    "    points = ret[1:-1,:]\n",
    "    return np.hstack([points[:-1], points[1:]])"
   ]
  },
  {
   "cell_type": "code",
   "execution_count": null,
   "metadata": {},
   "outputs": [
    {
     "data": {
      "image/png": "[encoded data removed]",
      "text/plain": [
       "<Figure size 432x288 with 2 Axes>"
      ]
     },
     "metadata": {
      "needs_background": "light"
     },
     "output_type": "display_data"
    }
   ],
   "source": [
    "line = [0, 200, 0,0]\n",
    "segments, ax = _line2segmented_pointlist(line, 15)\n",
    "tabs = _segments_to_tabs(segments, ax, 5)\n",
    "plt.subplot(1,2,1)\n",
    "plot_lines(tabs)\n",
    "\n",
    "line = [ 200,0,  0,0]\n",
    "segments, ax = _line2segmented_pointlist(line, 15)\n",
    "tabs = _segments_to_tabs(segments, ax, 5)\n",
    "plt.subplot(1,2,2)\n",
    "plot_lines(tabs)"
   ]
  },
  {
   "cell_type": "code",
   "execution_count": null,
   "metadata": {},
   "outputs": [],
   "source": [
    "%nbdev_export\n",
    "def _tabs2holes(tabs, ax):\n",
    "    tabs=tabs.copy()\n",
    "    to_modify = np.arange(0,len(tabs)-1,4)\n",
    "    values_from = np.arange(4,len(tabs),4)\n",
    "    tabs[to_modify,ax] = tabs[values_from,ax]\n",
    "    return tabs[:-1]"
   ]
  },
  {
   "cell_type": "code",
   "execution_count": null,
   "metadata": {},
   "outputs": [
    {
     "data": {
      "image/png": "[encoded data removed]",
      "text/plain": [
       "<Figure size 432x288 with 2 Axes>"
      ]
     },
     "metadata": {
      "needs_background": "light"
     },
     "output_type": "display_data"
    }
   ],
   "source": [
    "line = [0, 200, 0,0]\n",
    "segments, ax = _line2segmented_pointlist(line, 15)\n",
    "tabs = _segments_to_tabs(segments, ax, 5)\n",
    "holes = _tabs2holes(tabs, ax)\n",
    "plt.subplot(1,2,1)\n",
    "plot_lines(holes)\n",
    "\n",
    "line = [ 200,0,  0,0]\n",
    "segments, ax = _line2segmented_pointlist(line, 15)\n",
    "tabs = _segments_to_tabs(segments, ax, 5)\n",
    "holes = _tabs2holes(tabs, ax)\n",
    "plt.subplot(1,2,2)\n",
    "plot_lines(holes)"
   ]
  },
  {
   "cell_type": "code",
   "execution_count": null,
   "metadata": {},
   "outputs": [],
   "source": [
    "class OneLine:\n",
    "    def __init__(self, line):\n",
    "        if type(line) is OneLine:\n",
    "            line = line.line\n",
    "        self.line = np.array(line,dtype=float)\n",
    "        self.ax = _get_ax(self.line)\n",
    "        \n",
    "    def move_xy(self,x,y):\n",
    "        self.line +=[x,y,x,y]\n",
    "        \n",
    "    def move_in_ax(self, dist):\n",
    "        self.line[[self.ax, self.ax+2]] += dist\n",
    "        \n",
    "    def move_in_ay(self, dist):\n",
    "        ay = (self.ax+1)%2\n",
    "        self.line[[ay, ay+2]] += dist\n",
    "        \n",
    "    def to_points(self):\n",
    "        return self.line.reshape(2,2)\n",
    "    \n",
    "    def __getitem__(self, key):\n",
    "        return self.line[key]\n",
    "    \n",
    "    def __setitem__(self, key, value):\n",
    "        self.line[key] = value\n",
    "        self.ax = _get_ax(self.line)\n",
    "        \n",
    "    def __repr__(self):\n",
    "        return f\"l: {self.line}, ax: {self.ax}\"\n",
    "    def copy(self):\n",
    "        return OneLine(self.line)\n",
    "        "
   ]
  },
  {
   "cell_type": "code",
   "execution_count": null,
   "metadata": {},
   "outputs": [],
   "source": [
    "class LineObj:\n",
    "    def __init__(self, lines, ax=None):\n",
    "        self.lines = np.array(lines, dtype=float)\n",
    "        self.mx = 0\n",
    "        self.my = 0\n",
    "        self.ax=ax\n",
    "        \n",
    "    def __getitem__(self, key):\n",
    "        return self.lines[key]\n",
    "    \n",
    "    def __setitem__(self, key, value):\n",
    "        self.lines[key] = value\n",
    "        \n",
    "    @classmethod\n",
    "    def generate_tabs(cls, line, min_tab_mm, plywood_thick_mm, comp=True):\n",
    "        if type(line) is OneLine:\n",
    "            line = line.line\n",
    "            \n",
    "        segments, ax = _line2segmented_pointlist(line, min_tab_mm)\n",
    "        ay = (ax+1)%2\n",
    "        tabs = _segments_to_tabs(segments, ax, plywood_thick_mm)\n",
    "        tabs[:,ay] += line[ay]\n",
    "        tabs[:,ay+2] += line[ay]\n",
    "\n",
    "        tabs[0,ax] += abs(plywood_thick_mm)*comp\n",
    "        tabs[-1,ax+2] -= abs(plywood_thick_mm)*comp\n",
    "        return cls(tabs, ax)\n",
    "    \n",
    "    @classmethod\n",
    "    def generate_holes(cls, line, min_tab_mm, plywood_thick_mm, comp=True):\n",
    "        \"\"\"\n",
    "        \n",
    "        \\[param] comp: True: generates the holes in the middle of the line. otherwize it't on the top of the line\n",
    "        \"\"\"\n",
    "        if type(line) is OneLine:\n",
    "            line = line.line\n",
    "            \n",
    "        segments, ax = _line2segmented_pointlist(line, min_tab_mm)\n",
    "        ay = (ax+1)%2\n",
    "        tabs = _segments_to_tabs(segments, ax, plywood_thick_mm)\n",
    "        tabs = _tabs2holes(tabs, ax)\n",
    "        # move holes to the position of the line\n",
    "        tabs[:,ay] += line[ay] - comp* plywood_thick_mm/2   \n",
    "        tabs[:,ay+2] += line[ay] - comp* plywood_thick_mm/2\n",
    "\n",
    "        \n",
    "        return cls(tabs, ax)   \n",
    "        \n",
    "    def reset_move(self):\n",
    "        self.mx=0\n",
    "        self.my=0\n",
    "        \n",
    "    def move_xy(self, x, y):\n",
    "        self.lines += [x,y,x,y]\n",
    "        self.mx +=x\n",
    "        self.my +=y\n",
    "        \n",
    "    def move_in_ax(self, dist):\n",
    "        self.lines[:,[self.ax, self.ax+2]] += dist\n",
    "        if self.ax==0:\n",
    "            self.mx+=dist\n",
    "        else:\n",
    "            self.my+=dist\n",
    "    def move_in_ay(self, dist):\n",
    "        ay  = (self.ax+1)%2\n",
    "        self.lines[:,[ay, ay+2]] += dist\n",
    "        if self.ax==0:\n",
    "            self.my+=dist\n",
    "        else:\n",
    "            self.mx+=dist\n",
    "        \n",
    "    def plot(self):\n",
    "        for l in self.lines:\n",
    "            l = l.reshape(2,2)\n",
    "            plt.plot(l[:,0], l[:,1])"
   ]
  },
  {
   "cell_type": "code",
   "execution_count": null,
   "metadata": {},
   "outputs": [
    {
     "data": {
      "image/png": "[encoded data removed]",
      "text/plain": [
       "<Figure size 432x288 with 1 Axes>"
      ]
     },
     "metadata": {
      "needs_background": "light"
     },
     "output_type": "display_data"
    }
   ],
   "source": [
    "line = [201.4, 0, 0,0]\n",
    "llist = LineObj.generate_tabs(line, min_tab_mm=20.3, plywood_thick_mm=-5.4, comp=False)\n",
    "\n",
    "plt.subplot(1,2,1)\n",
    "llist.plot()\n"
   ]
  },
  {
   "cell_type": "code",
   "execution_count": null,
   "metadata": {},
   "outputs": [
    {
     "data": {
      "image/png": "[encoded data removed]",
      "text/plain": [
       "<Figure size 432x288 with 2 Axes>"
      ]
     },
     "metadata": {
      "needs_background": "light"
     },
     "output_type": "display_data"
    }
   ],
   "source": [
    "line = [200, 10, 0,10]\n",
    "llist2 = LineObj.generate_holes(line, min_tab_mm=20, plywood_thick_mm=5, comp=False)\n",
    "plt.subplot(1,2,1)\n",
    "llist2.plot()\n",
    "\n",
    "line = [200, 10, 0,10]\n",
    "llist2 = LineObj.generate_holes(line, min_tab_mm=20, plywood_thick_mm=5, comp=True)\n",
    "plt.subplot(1,2,2)\n",
    "llist2.plot()"
   ]
  },
  {
   "cell_type": "code",
   "execution_count": null,
   "metadata": {},
   "outputs": [
    {
     "data": {
      "image/png": "[encoded data removed]",
      "text/plain": [
       "<Figure size 432x288 with 4 Axes>"
      ]
     },
     "metadata": {
      "needs_background": "light"
     },
     "output_type": "display_data"
    }
   ],
   "source": [
    "lines=[[0,0, 10,10],\n",
    "       [0,10,10,0]]\n",
    "\n",
    "x , y = 20,50\n",
    "lobj = LineObj(lines,ax=0)\n",
    "plt.subplot(2,2,1)\n",
    "plt.title('original')\n",
    "lobj.plot()\n",
    "assert lobj.mx == 0\n",
    "assert lobj.my == 0\n",
    "\n",
    "plt.subplot(2,2,2)\n",
    "plt.title(f\"moved, {x}, {y}\")\n",
    "lobj.move_xy(x,y)\n",
    "lobj.plot()\n",
    "assert lobj.mx == 20\n",
    "assert lobj.my == 50\n",
    "\n",
    "plt.subplot(2,2,3)\n",
    "plt.title(f\"moved -{x} in axis 0\")\n",
    "lobj.move_in_ax(-x)\n",
    "lobj.plot()\n",
    "assert lobj.mx == 0\n",
    "assert lobj.my == 50\n",
    "\n",
    "plt.subplot(2,2,4)\n",
    "plt.title(f\"moved -{y} in axis 1\")\n",
    "lobj.move_in_ay(-y)\n",
    "lobj.plot()\n",
    "\n",
    "assert lobj.mx == 0\n",
    "assert lobj.my == 0"
   ]
  },
  {
   "cell_type": "code",
   "execution_count": null,
   "metadata": {},
   "outputs": [],
   "source": [
    "def check_intersection(side1, side2):\n",
    "    if side1.x_dir == side2.x_dir:\n",
    "        # no intersection since they are paralell\n",
    "        return\n",
    "    "
   ]
  },
  {
   "cell_type": "code",
   "execution_count": null,
   "metadata": {},
   "outputs": [],
   "source": [
    "%nbdev_export\n",
    "class Side:\n",
    "    def __init__(self, line, height, min_tab_size, thick):\n",
    "        if type(line) is OneLine:\n",
    "            line = line.line\n",
    "        self.min_tab_size = min_tab_size\n",
    "        self.thick = thick\n",
    "        self.x_dir = _get_ax(line)\n",
    "        self.y_dir = (self.x_dir+1)%2\n",
    "        self.height = height\n",
    "        \n",
    "        self.mx, self.my = 0,0\n",
    "        # generates the lines as a rectangle\n",
    "        self.base = np.array(line, dtype=float)\n",
    "        self.l = np.array([line[0],line[1], line[0],line[1] ], dtype=float)\n",
    "        self.l[2+self.y_dir] += height\n",
    "        self.r = np.array([line[2], line[3], line[2], line[3]], dtype=float)\n",
    "        self.r[2+self.y_dir] += height\n",
    "        self.t =np.array([self.l[2], self.l[3], self.r[2], self.r[3]], dtype=float)\n",
    "        self.result = None\n",
    "    \n",
    "        \n",
    "    def generate_bottomside(self):\n",
    "        bottom = LineObj.generate_tabs(self.base, self.min_tab_size, self.thick)\n",
    "        top = LineObj.generate_tabs(self.t, self.min_tab_size, -self.thick)\n",
    "        left = LineObj.generate_tabs(self.l, self.min_tab_size, self.thick)\n",
    "        right = LineObj.generate_tabs(self.r, self.min_tab_size, -self.thick)\n",
    "        self.result = np.vstack([bottom.lines, \n",
    "                                 top.lines,\n",
    "                                 left.lines,\n",
    "                                 right.lines])\n",
    "    \n",
    "    def generate_outer_wall(self):  \n",
    "        holes = LineObj.generate_holes(self.base, self.min_tab_size, self.thick, comp=False)\n",
    "        holes.move_in_ay(self.thick)  \n",
    "        d = 1 if self.x_dir==0 else -1\n",
    "        left = LineObj.generate_tabs(self.l, self.min_tab_size, d*self.thick, comp=False)\n",
    "        right = LineObj.generate_tabs(self.r, self.min_tab_size, -d*self.thick, comp=False)\n",
    "        top = self.t.copy()\n",
    "        base = self.base.copy()\n",
    "        if self.x_dir:\n",
    "            right.move_in_ay(-self.thick)\n",
    "            left.move_in_ay( self.thick)\n",
    "        else:\n",
    "            top += [self.thick, 0, -self.thick,0]\n",
    "            base +=[self.thick, 0, -self.thick,0]\n",
    "        self.result = np.vstack([holes.lines, \n",
    "                                 left.lines,\n",
    "                                 right.lines, \n",
    "                                 top, \n",
    "                                 base])\n",
    "        \n",
    "    def add_holes(self, line):\n",
    "        line = OneLine(line)\n",
    "        line.move_xy(self.mx, self.my)\n",
    "        holes = LineObj.generate_holes(line, self.min_tab_size, self.thick, comp=True)\n",
    "        self.result = np.vstack([self.result, holes.lines])\n",
    "        \n",
    "    def generate_inner_wall(self):\n",
    "        # this one is a bit tricy since the floor has an offset to the rest of the walls.\n",
    "        # we first generate the sides as usual but then move the top base and top line\n",
    "        # and also need to trim the end of the lines \n",
    "        tabs1 = LineObj.generate_tabs(self.base, self.min_tab_size, self.thick, comp=True)\n",
    "        tabs1.move_in_ay(self.thick)\n",
    "        tabs2 = LineObj.generate_tabs(self.l, self.min_tab_size, self.thick, comp=False)\n",
    "        tabs2[0, self.y_dir] += self.thick*2\n",
    "        tabs2[-1, self.y_dir+2] += self.thick\n",
    "        \n",
    "        tabs3 = LineObj.generate_tabs(self.r, self.min_tab_size, -self.thick, comp=False)\n",
    "        tabs3[0, self.y_dir] += self.thick*2\n",
    "        tabs3[-1, self.y_dir+2] += self.thick\n",
    "        \n",
    "        top = OneLine(self.t)\n",
    "        top.move_in_ay(self.thick)        \n",
    "        self.result = np.vstack([tabs1.lines, tabs2.lines, tabs3.lines,top.line ])\n",
    "        \n",
    "    def flip_h(self):\n",
    "        self.result[:,[0,2]] = -self.result[:,[0,2]] + np.max(self.result[:,[0,2]])\n",
    "        \n",
    "    def flip_v(self):\n",
    "        self.result[:,[1,3]] = -self.result[:,[1,3]] + np.max(self.result[:,[1,3]])\n",
    "        \n",
    "    def move(self, x, y):\n",
    "        self.mx +=x\n",
    "        self.my +=y\n",
    "        self.result += [x,y,x,y]\n",
    "        \n",
    "    def plot_outline(self):\n",
    "        lines = np.array([self.base, self.l, self.r, self.t])\n",
    "        plot_lines(lines)\n",
    "        \n",
    "    def plot(self):\n",
    "        plot_lines(self.result)\n",
    "        \n",
    "    def add_inner_walls(self,other_side):\n",
    "        if other_side.x_dir == self.x_dir:\n",
    "            #lines are paralell, we don't make any more comparisons\n",
    "            return  # they do not intersect\n",
    "        myline = LineString(self.base.reshape(2,2))\n",
    "        oline = LineString(other_side.base.reshape(2,2))\n",
    "        pint = myline.intersection(oline)\n",
    "        try:\n",
    "            p = pint.x, pint.y\n",
    "            i_line = OneLine([p[0],\n",
    "                      p[1],\n",
    "                      p[0],\n",
    "                      p[1]])\n",
    "            i_line[self.y_dir] = 0\n",
    "            i_line[self.y_dir+2] = self.height\n",
    "          \n",
    "        except:\n",
    "            # we didn't find any intersection\n",
    "            return \n",
    "        \n",
    "        ps = self.base.reshape(2,2)\n",
    "        any(np.isclose(ps,p).sum(axis=1)==2)\n",
    "        if any(np.isclose(ps,p).sum(axis=1)==2):\n",
    "            # return if intersection is our own endpoint\n",
    "            return\n",
    "        print(f\"intersection point: {p}, line {other_side.base}\")\n",
    "        ps = other_side.base.reshape(2,2)\n",
    "        any(np.isclose(ps,p).sum(axis=1)==2)\n",
    "        if any(np.isclose(ps,p).sum(axis=1)==2):\n",
    "            print(\"endpoint found\")\n",
    "            # Endpoint, we shoud generate holes in our self\n",
    "            holes = LineObj.generate_holes(i_line, self.min_tab_size, self.thick, comp=True)\n",
    "            holes.move_in_ax(-self.thick)\n",
    "            x = np.min(self.result[:,[0,2]])\n",
    "            y = np.min(self.result[:,[1,3]])\n",
    "            holes.move_xy(x,y)\n",
    "            self.result =np.vstack([self.result, holes.lines])\n",
    "        else:\n",
    "            print('intersection found')\n",
    "            i_line.move_in_ax(self.thick)\n",
    "            l1, l2 = i_line.copy(), i_line.copy()\n",
    "            # split the lines\n",
    "            l1.move_in_ay(-self.thick/2)\n",
    "            l2.move_in_ay(self.thick/2)\n",
    "            x =np.min(self.result[:,[0,2]])\n",
    "            y =np.min(self.result[:,[1,3]])\n",
    "            l1.move_xy(x,y)\n",
    "            l2.move_xy(x,y)\n",
    "\n",
    "            if i_line.ax==1:\n",
    "                dim = 0\n",
    "                d= -1\n",
    "            else:\n",
    "                dim = 2\n",
    "                d = 1\n",
    "            half = self.height/2\n",
    "            l1[self.y_dir+dim] -=d*half\n",
    "            l2[self.y_dir+dim] -=d*half\n",
    "            l1[[self.x_dir, self.x_dir+2]]\n",
    "            l2[[self.x_dir, self.x_dir+2]]\n",
    "            x = np.min(self.result[:,[0,2]])\n",
    "            y = np.min(self.result[:,[1,3]])\n",
    "\n",
    "            if self.x_dir==1:\n",
    "                l1.move_xy(-self.thick,0)\n",
    "                l2.move_xy(-self.thick,0)\n",
    "                l3 = OneLine([l1[self.y_dir+dim],\n",
    "                      l1[self.x_dir+dim],\n",
    "                      l2[self.y_dir+dim],\n",
    "                      l2[self.x_dir+dim]])\n",
    "            else:\n",
    "                l1.move_xy(0, -self.thick)\n",
    "                l2.move_xy(0, -self.thick)\n",
    "                l3 = OneLine([l1[self.x_dir+dim],\n",
    "                      l1[self.y_dir+dim],\n",
    "                      l2[self.x_dir+dim],\n",
    "                      l2[self.y_dir+dim]])\n",
    "            \n",
    "            slitz = np.vstack([l1.line, l2.line, l3.line])\n",
    "            #slitz += [self.mx, self.my, self.mx, self.my]\n",
    "            self.result =np.vstack([self.result, slitz])"
   ]
  },
  {
   "cell_type": "code",
   "execution_count": null,
   "metadata": {},
   "outputs": [
    {
     "name": "stdout",
     "output_type": "stream",
     "text": [
      "intersection point: (0.0, 100.0), line [-10. 100. 200. 100.]\n",
      "intersection found\n",
      "intersection point: (100.0, 0.0), line [100. -10. 100. 200.]\n",
      "intersection found\n"
     ]
    },
    {
     "data": {
      "image/png": "[encoded data removed]",
      "text/plain": [
       "<Figure size 1080x360 with 4 Axes>"
      ]
     },
     "metadata": {
      "needs_background": "light"
     },
     "output_type": "display_data"
    }
   ],
   "source": [
    "line1 = np.array([0,0, 0,200])\n",
    "line2 = np.array([-10, 100, 200, 100])\n",
    "plt.figure(figsize=(15,5))\n",
    "plt.subplot(1,4,1)\n",
    "plot_lines(np.array([line1, line2]))\n",
    "tab_sz =15\n",
    "th = 5\n",
    "s1 = Side(line1, 50,tab_sz, th)\n",
    "s2 = Side(line2, 50, tab_sz, th)\n",
    "\n",
    "s1.generate_inner_wall()\n",
    "s1.move(45,70)\n",
    "s1.add_inner_walls(s2)\n",
    "plt.subplot(1,4,2)\n",
    "s1.plot()\n",
    "\n",
    "line1 = np.array([0,0, 200,0])\n",
    "line2 = np.array([100, -10, 100, 200])\n",
    "plt.subplot(1,4,3)\n",
    "plot_lines(np.array([line1, line2]))\n",
    "\n",
    "s1 = Side(line1, 50,tab_sz, th)\n",
    "s2 = Side(line2, 50, tab_sz, th)\n",
    "\n",
    "s1.generate_inner_wall()\n",
    "s1.move(-20,50)\n",
    "s1.add_inner_walls(s2)\n",
    "plt.subplot(1,4,4)\n",
    "s1.plot()"
   ]
  },
  {
   "cell_type": "code",
   "execution_count": null,
   "metadata": {},
   "outputs": [
    {
     "name": "stdout",
     "output_type": "stream",
     "text": [
      "intersection point: (0.0, 100.0), line [  0. 100. 200. 100.]\n",
      "endpoint found\n"
     ]
    },
    {
     "data": {
      "image/png": "[encoded data removed]",
      "text/plain": [
       "<Figure size 432x288 with 2 Axes>"
      ]
     },
     "metadata": {
      "needs_background": "light"
     },
     "output_type": "display_data"
    }
   ],
   "source": [
    "line1 = np.array([0,-10, 0,200])\n",
    "line2 = np.array([0, 100, 200, 100])\n",
    "plt.figure()\n",
    "plt.subplot(1,2,1)\n",
    "plot_lines(np.array([line1, line2]))\n",
    "\n",
    "s1 = Side(line1, 50,15,5)\n",
    "s2 = Side(line2, 50,15, 5)\n",
    "\n",
    "s1.generate_inner_wall()\n",
    "s1.add_inner_walls(s2)\n",
    "plt.subplot(1,2,2)\n",
    "s1.plot()\n"
   ]
  },
  {
   "cell_type": "markdown",
   "metadata": {},
   "source": [
    "# Inner walls + Holes example"
   ]
  },
  {
   "cell_type": "code",
   "execution_count": null,
   "metadata": {},
   "outputs": [
    {
     "data": {
      "image/png": "[encoded data removed]",
      "text/plain": [
       "<Figure size 1080x1080 with 2 Axes>"
      ]
     },
     "metadata": {
      "needs_background": "light"
     },
     "output_type": "display_data"
    }
   ],
   "source": [
    "\n",
    "l = [0,0, 0, 300]\n",
    "line = [0,150, 50,150]\n",
    "s = Side(l, 50, min_tab_size=15, thick=4)\n",
    "s.generate_inner_wall()\n",
    "s.add_holes(line)\n",
    "plt.figure(figsize=(15,15))\n",
    "plt.subplot(1,2,1)\n",
    "s.plot()\n",
    "\n",
    "l = [0,0, 300, 0]\n",
    "line = [0,25, 300,25]\n",
    "s = Side(l, 50,min_tab_size=15, thick=4 )\n",
    "s.generate_inner_wall()\n",
    "s.add_holes(line)\n",
    "plt.subplot(1,2,2)\n",
    "s.plot()"
   ]
  },
  {
   "cell_type": "markdown",
   "metadata": {},
   "source": [
    "# Outer walls example"
   ]
  },
  {
   "cell_type": "code",
   "execution_count": null,
   "metadata": {},
   "outputs": [
    {
     "data": {
      "image/png": "[encoded data removed]",
      "text/plain": [
       "<Figure size 432x288 with 2 Axes>"
      ]
     },
     "metadata": {
      "needs_background": "light"
     },
     "output_type": "display_data"
    }
   ],
   "source": [
    "l = [0, 0, 200, 0]\n",
    "s = Side(l, 50,7,4)\n",
    "s.generate_outer_wall()\n",
    "plt.subplot(1,2,1)\n",
    "s.plot()\n",
    "\n",
    "l = [0, 0, 0, 200]\n",
    "s = Side(l, 50,7,4)\n",
    "s.generate_outer_wall()\n",
    "plt.subplot(1,2,2)\n",
    "s.plot()"
   ]
  },
  {
   "cell_type": "markdown",
   "metadata": {},
   "source": [
    "# Bottom Side example"
   ]
  },
  {
   "cell_type": "code",
   "execution_count": null,
   "metadata": {},
   "outputs": [
    {
     "data": {
      "image/png": "[encoded data removed]",
      "text/plain": [
       "<Figure size 432x288 with 1 Axes>"
      ]
     },
     "metadata": {
      "needs_background": "light"
     },
     "output_type": "display_data"
    }
   ],
   "source": [
    "l = [0,0,300,0]\n",
    "tab_size = 20\n",
    "thick = 3\n",
    "s = Side(l, 200, tab_size, thick)\n",
    "s.generate_bottomside()\n",
    "s.plot()"
   ]
  },
  {
   "cell_type": "markdown",
   "metadata": {},
   "source": [
    "# Box Generator"
   ]
  },
  {
   "cell_type": "code",
   "execution_count": null,
   "metadata": {},
   "outputs": [],
   "source": [
    "%nbdev_export\n",
    "def gen_points(x, y):\n",
    "    return [0,0], [0, y], [x, y ], [x, 0]\n",
    "\n",
    "class BoxGen:\n",
    "    def __init__(self, \n",
    "                 playwood_thickness,\n",
    "                x_size_mm, y_size_mm,\n",
    "                height_mm,\n",
    "                min_tabsize_mm=30):\n",
    "        self.thickness = playwood_thickness\n",
    "        self.x = x_size_mm\n",
    "        self.y = y_size_mm\n",
    "        self.height = height_mm\n",
    "        self.min_tabsize = min_tabsize_mm\n",
    "        bottom_line = [0,0, x_size_mm, 0 ]\n",
    "        self.bottom = Side(bottom_line, y_size_mm, min_tabsize_mm, playwood_thickness)\n",
    "        self.bottom.generate_bottomside()\n",
    "        \n",
    "        lr_line = [0,0,0, y_size_mm]\n",
    "        left =  Side(lr_line, height_mm, min_tabsize_mm, playwood_thickness)\n",
    "        left.generate_outer_wall()\n",
    "        left.move(-height_mm, 0)\n",
    "        \n",
    "        right =  Side(lr_line, height_mm, min_tabsize_mm, playwood_thickness)\n",
    "        right.generate_outer_wall()\n",
    "        right.move(-height_mm*2,0)\n",
    "        \n",
    "        \n",
    "        ul_line = [0,0,x_size_mm, 0]\n",
    "        upper =  Side(ul_line, height_mm,min_tabsize_mm, playwood_thickness)\n",
    "        upper.generate_outer_wall()\n",
    "        upper.move(0,-height_mm)\n",
    "        \n",
    "        lower = Side(ul_line, height_mm,min_tabsize_mm, playwood_thickness)\n",
    "        lower.generate_outer_wall()\n",
    "        lower.move(0,-height_mm*2)\n",
    "        \n",
    "        self.outer_walls = [left, right, upper, lower]\n",
    "        self.inner_walls = list()\n",
    "        \n",
    "    \n",
    "    def plot_outline(self):\n",
    "        p1,p2,p3,p4 =gen_points(self.x, self.y)\n",
    "        lines = np.array([p1 + p2, p2+p3, p3+p4, p4+p1])\n",
    "        plot_lines(lines)\n",
    "        for s in self.inner_walls:\n",
    "            plot_lines([s.base])\n",
    "\n",
    "        \n",
    "    def add_innerwall(self, p1,p2):\n",
    "        line = OneLine(p1+p2)\n",
    "        iwall = Side(line, self.height,self.min_tabsize, self.thickness)\n",
    "        iwall.generate_inner_wall()\n",
    "        \n",
    "        self.bottom.add_holes(line)\n",
    "\n",
    "        num = len([s for s in self.inner_walls if s.x_dir==iwall.x_dir])\n",
    "        #else:\n",
    "        x_start = np.min(iwall.result[:,0])\n",
    "        y_start = np.min(iwall.result[:,1])\n",
    "        x,y = -x_start, -y_start        ## hur många\n",
    "        if iwall.x_dir==0:\n",
    "            y+= num*self.height + self.y\n",
    "        else:\n",
    "            x+= num *self.height + self.x\n",
    "        \n",
    "        print(x,y)\n",
    "            \n",
    "        iwall.move(x,y)\n",
    "        self.inner_walls.append(iwall)\n",
    "        for owall in self.outer_walls:\n",
    "            owall.add_inner_walls(iwall)\n",
    "            \n",
    "    def update_inner_walls(self):\n",
    "        for s1 in self.inner_walls:\n",
    "            for s2 in self.inner_walls:\n",
    "                if s1 is s2:\n",
    "                    continue\n",
    "                else:\n",
    "                    print(s1.base, s2.base)\n",
    "                    s1.add_inner_walls(s2)\n",
    "        \n",
    "    def plot(self):\n",
    "        self.bottom.plot()\n",
    "        for i, s in enumerate(self.outer_walls):\n",
    "            s.plot()\n",
    "            \n",
    "        for s in self.inner_walls:\n",
    "            s.plot()\n",
    "    \n",
    "    @staticmethod\n",
    "    def to_dwg(obj, dwg):\n",
    "        for r in obj.result:\n",
    "            dwg.add(dwg.line((r[0]*mm,r[1]*mm),(r[2]*mm,r[3]*mm), stroke=\"#000\"))\n",
    "        \n",
    "    def export_to_svg(self, filename):\n",
    "        dwg = svgwrite.Drawing(filename, profile='tiny')\n",
    "        func1 = partial(self.to_dwg, dwg=dwg)\n",
    "        func1(self.bottom)\n",
    "        list(map(func1, self.outer_walls))\n",
    "        list(map(func1, self.inner_walls))\n",
    "        dwg.save()"
   ]
  },
  {
   "cell_type": "code",
   "execution_count": null,
   "metadata": {},
   "outputs": [
    {
     "name": "stdout",
     "output_type": "stream",
     "text": [
      "96.8 -30.0\n",
      "96.8 -0.0\n",
      "intersection point: (100.0, 0.0), line [100.   0. 100. 100.]\n",
      "endpoint found\n",
      "intersection point: (100.0, 0.0), line [100.   0. 100. 100.]\n",
      "endpoint found\n",
      "-0.0 66.8\n",
      "intersection point: (0.0, 30.0), line [  0.  30. 150.  30.]\n",
      "endpoint found\n",
      "intersection point: (0.0, 30.0), line [  0.  30. 150.  30.]\n",
      "endpoint found\n"
     ]
    }
   ],
   "source": [
    "box = BoxGen(playwood_thickness=3.2,\n",
    "                x_size_mm=150, \n",
    "                y_size_mm=100,\n",
    "                height_mm=50,\n",
    "                min_tabsize_mm=10)\n",
    "\n",
    "box.add_innerwall((50,30), (50,100))\n",
    "box.add_innerwall((100,0), (100,100))\n",
    "box.add_innerwall((0,30), (150,30))\n"
   ]
  },
  {
   "cell_type": "code",
   "execution_count": null,
   "metadata": {},
   "outputs": [
    {
     "name": "stdout",
     "output_type": "stream",
     "text": [
      "[ 50.  30.  50. 100.] [100.   0. 100. 100.]\n",
      "[ 50.  30.  50. 100.] [  0.  30. 150.  30.]\n",
      "[100.   0. 100. 100.] [ 50.  30.  50. 100.]\n",
      "[100.   0. 100. 100.] [  0.  30. 150.  30.]\n",
      "intersection point: (100.0, 30.0), line [  0.  30. 150.  30.]\n",
      "intersection found\n",
      "[  0.  30. 150.  30.] [ 50.  30.  50. 100.]\n",
      "intersection point: (50.0, 30.0), line [ 50.  30.  50. 100.]\n",
      "endpoint found\n",
      "[  0.  30. 150.  30.] [100.   0. 100. 100.]\n",
      "intersection point: (100.0, 30.0), line [100.   0. 100. 100.]\n",
      "intersection found\n"
     ]
    },
    {
     "data": {
      "image/png": "[encoded data removed]",
      "text/plain": [
       "<Figure size 432x288 with 1 Axes>"
      ]
     },
     "metadata": {
      "needs_background": "light"
     },
     "output_type": "display_data"
    }
   ],
   "source": [
    "box.update_inner_walls()\n",
    "box.plot_outline()"
   ]
  },
  {
   "cell_type": "code",
   "execution_count": null,
   "metadata": {},
   "outputs": [
    {
     "data": {
      "image/png": "[encoded data removed]",
      "text/plain": [
       "<Figure size 432x288 with 1 Axes>"
      ]
     },
     "metadata": {
      "needs_background": "light"
     },
     "output_type": "display_data"
    }
   ],
   "source": [
    "plot_lines([box.inner_walls[0].base,\n",
    "box.inner_walls[1].base])"
   ]
  },
  {
   "cell_type": "code",
   "execution_count": null,
   "metadata": {},
   "outputs": [],
   "source": [
    "# När man skapar innerväggen behöver den flytta sig."
   ]
  },
  {
   "cell_type": "code",
   "execution_count": null,
   "metadata": {},
   "outputs": [
    {
     "data": {
      "image/png": "[encoded data removed]",
      "text/plain": [
       "<Figure size 1080x1080 with 1 Axes>"
      ]
     },
     "metadata": {
      "needs_background": "light"
     },
     "output_type": "display_data"
    }
   ],
   "source": [
    "plt.figure(figsize=(15,15))\n",
    "box.plot()"
   ]
  },
  {
   "cell_type": "code",
   "execution_count": null,
   "metadata": {},
   "outputs": [],
   "source": [
    "# changing this one too to see if it also need to be chan"
   ]
  }
 ],
 "metadata": {
  "kernelspec": {
   "display_name": "Python 3",
   "language": "python",
   "name": "python3"
  }
 },
 "nbformat": 4,
 "nbformat_minor": 4
}
