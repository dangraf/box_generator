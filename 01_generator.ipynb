{
 "cells": [
  {
   "cell_type": "code",
   "execution_count": null,
   "metadata": {},
   "outputs": [],
   "source": [
    "# default_exp gen"
   ]
  },
  {
   "cell_type": "code",
   "execution_count": null,
   "metadata": {},
   "outputs": [],
   "source": [
    "#export\n",
    "import numpy as np\n",
    "import matplotlib.pyplot as plt\n",
    "import svgwrite\n",
    "from svgwrite import mm\n",
    "import shapely\n",
    "from shapely.geometry import LineString, Point\n",
    "from  functools import partial\n",
    "from box_generator.lineprims import *\n",
    "from nbdev import *"
   ]
  },
  {
   "cell_type": "code",
   "execution_count": null,
   "metadata": {},
   "outputs": [],
   "source": [
    "%reload_ext autoreload\n",
    "%autoreload 2"
   ]
  },
  {
   "cell_type": "code",
   "execution_count": null,
   "metadata": {},
   "outputs": [],
   "source": [
    "# Basic Line functions"
   ]
  },
  {
   "cell_type": "code",
   "execution_count": null,
   "metadata": {},
   "outputs": [],
   "source": [
    "#export\n",
    "class Side:\n",
    "    def __init__(self, line, height, min_tab_size, thick):\n",
    "        line = OneLine(line)\n",
    "        self.base = line\n",
    "        self.x_dir = line.ax\n",
    "        self.y_dir = line.ay\n",
    "        self.height = height\n",
    "        self.min_tab_size=min_tab_size\n",
    "        self.thick=thick\n",
    "        self.is_inner=False\n",
    "        self.mx, self.my=0,0 # information about movement\n",
    "        \n",
    "        self.l = OneLine([line[0],line[1], line[0],line[1] ])\n",
    "        self.l[2+line.ay] += height\n",
    "        self.r = OneLine([line[2], line[3], line[2], line[3]])\n",
    "        self.r[2+line.ay] += height\n",
    "        self.t =OneLine([self.l[2], self.l[3], self.r[2], self.r[3]])\n",
    "        self.result = None\n",
    "    \n",
    "        \n",
    "    def generate_bottomside(self):\n",
    "        bottom = LineObj.generate_tabs(self.base, self.min_tab_size, self.thick)\n",
    "        top = LineObj.generate_tabs(self.t, self.min_tab_size, -self.thick)\n",
    "        left = LineObj.generate_tabs(self.l, self.min_tab_size, self.thick)\n",
    "        right = LineObj.generate_tabs(self.r, self.min_tab_size, -self.thick)\n",
    "        self.result = np.vstack([bottom.lines, \n",
    "                                 top.lines,\n",
    "                                 left.lines,\n",
    "                                 right.lines])\n",
    "    \n",
    "    def generate_outer_wall(self):  \n",
    "        holes = LineObj.generate_holes(self.base, self.min_tab_size, self.thick, comp=False)\n",
    "        holes.move_in_ay(self.thick)  \n",
    "        d = 1 if self.x_dir==0 else -1\n",
    "        left = LineObj.generate_tabs(self.l, self.min_tab_size, d*self.thick, comp=False)\n",
    "        right = LineObj.generate_tabs(self.r, self.min_tab_size, -d*self.thick, comp=False)\n",
    "        top = self.t.copy()\n",
    "        base = self.base.copy()\n",
    "        if self.x_dir:\n",
    "            right.move_in_ay(-self.thick)\n",
    "            left.move_in_ay( self.thick)\n",
    "        else:\n",
    "            top += [self.thick, 0, -self.thick,0]\n",
    "            base +=[self.thick, 0, -self.thick,0]\n",
    "        self.result = np.vstack([holes.lines, \n",
    "                                 left.lines,\n",
    "                                 right.lines, \n",
    "                                 top, \n",
    "                                 base])\n",
    "        \n",
    "    def add_holes(self, line):\n",
    "        line = OneLine(line)\n",
    "        line.move_xy(self.mx, self.my)\n",
    "        holes = LineObj.generate_holes(line, self.min_tab_size, self.thick, comp=True)\n",
    "        self.result = np.vstack([self.result, holes.lines])\n",
    "        \n",
    "    def generate_inner_wall(self):\n",
    "        # this one is a bit tricy since the floor has an offset to the rest of the walls.\n",
    "        # we first generate the sides as usual but then move the top base and top line\n",
    "        # and also need to trim the end of the lines\n",
    "        self.is_inner=True\n",
    "        tabs1 = LineObj.generate_tabs(self.base, self.min_tab_size, self.thick, comp=True)\n",
    "        tabs1.move_in_ay(self.thick)\n",
    "        tabs2 = LineObj.generate_tabs(self.l, self.min_tab_size, self.thick, comp=False)\n",
    "        tabs2[0, self.y_dir] += self.thick*2\n",
    "        tabs2[-1, self.y_dir+2] += self.thick\n",
    "        \n",
    "        tabs3 = LineObj.generate_tabs(self.r, self.min_tab_size, -self.thick, comp=False)\n",
    "        tabs3[0, self.y_dir] += self.thick*2\n",
    "        tabs3[-1, self.y_dir+2] += self.thick\n",
    "        \n",
    "        top = OneLine(self.t)\n",
    "        top.move_in_ay(self.thick)        \n",
    "        self.result = np.vstack([tabs1.lines, tabs2.lines, tabs3.lines,top ])\n",
    "        \n",
    "    def flip_h(self):\n",
    "        self.result[:,[0,2]] = -self.result[:,[0,2]] + np.max(self.result[:,[0,2]])\n",
    "        \n",
    "    def flip_v(self):\n",
    "        self.result[:,[1,3]] = -self.result[:,[1,3]] + np.max(self.result[:,[1,3]])\n",
    "        \n",
    "    def move(self, x, y):\n",
    "        self.mx +=x\n",
    "        self.my +=y\n",
    "        self.result += [x,y,x,y]\n",
    "        \n",
    "    def plot_outline(self):\n",
    "        lines = np.array([self.base, self.l, self.r, self.t])\n",
    "        plot_lines(lines)\n",
    "        \n",
    "    def plot(self):\n",
    "        plot_lines(self.result)\n",
    "        \n",
    "    def add_inner_walls(self,other_side):\n",
    "        if other_side.x_dir == self.x_dir:\n",
    "            #lines are paralell, we don't make any more comparisons\n",
    "            return  # they do not intersect\n",
    "        myline = LineString(np.array(self.base).reshape(2,2))\n",
    "        oline = LineString(np.array(other_side.base).reshape(2,2))\n",
    "        pint = myline.intersection(oline)\n",
    "        try:\n",
    "            p = pint.x, pint.y\n",
    "            i_line = OneLine([p[0],\n",
    "                      p[1],\n",
    "                      p[0],\n",
    "                      p[1]])\n",
    "            i_line[self.y_dir] = 0\n",
    "            i_line[self.y_dir+2] = self.height\n",
    "          \n",
    "        except:\n",
    "            # we didn't find any intersection\n",
    "            return \n",
    "        \n",
    "        ps = self.base.reshape(2,2)\n",
    "        any(np.isclose(ps,p).sum(axis=1)==2)\n",
    "        if any(np.isclose(ps,p).sum(axis=1)==2):\n",
    "            # return if intersection is our own endpoint\n",
    "            return\n",
    "        print(f\"intersection point: {p}, line {other_side.base}\")\n",
    "        ps = other_side.base.reshape(2,2)\n",
    "        any(np.isclose(ps,p).sum(axis=1)==2)\n",
    "        if any(np.isclose(ps,p).sum(axis=1)==2):\n",
    "            print(\"endpoint found\")\n",
    "            # Endpoint, we shoud generate holes in our self\n",
    "            holes = LineObj.generate_holes(i_line, self.min_tab_size, self.thick, comp=True)\n",
    "            if self.is_inner:\n",
    "                holes.move_in_ax(-self.thick) # todo, check if I'm an inner wall.\n",
    "            x = np.min(self.result[:,[0,2]])\n",
    "            y = np.min(self.result[:,[1,3]])\n",
    "            holes.move_xy(x,y)\n",
    "            self.result =np.vstack([self.result, holes.lines])\n",
    "        else:\n",
    "            print('intersection found')\n",
    "            i_line.move_in_ax(self.thick)\n",
    "            l1, l2 = i_line.copy(), i_line.copy()\n",
    "            # split the lines\n",
    "            l1.move_in_ay(-self.thick/2)\n",
    "            l2.move_in_ay(self.thick/2)\n",
    "            x =np.min(self.result[:,[0,2]])\n",
    "            y =np.min(self.result[:,[1,3]])\n",
    "            l1.move_xy(x,y)\n",
    "            l2.move_xy(x,y)\n",
    "\n",
    "            if i_line.ax==1:\n",
    "                dim = 0\n",
    "                d= -1\n",
    "            else:\n",
    "                dim = 2\n",
    "                d = 1\n",
    "            half = self.height/2\n",
    "            l1[self.y_dir+dim] -=d*half\n",
    "            l2[self.y_dir+dim] -=d*half\n",
    "            l1[[self.x_dir, self.x_dir+2]]\n",
    "            l2[[self.x_dir, self.x_dir+2]]\n",
    "            x = np.min(self.result[:,[0,2]])\n",
    "            y = np.min(self.result[:,[1,3]])\n",
    "\n",
    "            if self.x_dir==1:\n",
    "                print('x')\n",
    "                print(dim)\n",
    "                l1.move_xy(-self.thick,0)\n",
    "                l2.move_xy(-self.thick,0)\n",
    "                l3 = OneLine([l1[self.y_dir+dim],\n",
    "                      l1[self.x_dir+dim],\n",
    "                      l2[self.y_dir+dim],\n",
    "                      l2[self.x_dir+dim]])\n",
    "            else:\n",
    "                print('y')\n",
    "                print(dim)\n",
    "                l1.move_in_ax(half)\n",
    "                l2.move_in_ax(half)\n",
    "                #l1.move_xy(0, -self.thick)\n",
    "                #l2.move_xy(0, -self.thick)\n",
    "                dim=0\n",
    "                l3 = OneLine([l1[self.x_dir+dim],\n",
    "                      l1[self.y_dir+dim],\n",
    "                      l2[self.x_dir+dim],\n",
    "                      l2[self.y_dir+dim]])\n",
    "            print(l1, l2, l3)\n",
    "            slitz = np.vstack([l1, l2, l3])\n",
    "            #slitz += [self.mx, self.my, self.mx, self.my]\n",
    "            self.result =np.vstack([self.result, slitz])"
   ]
  },
  {
   "cell_type": "code",
   "execution_count": null,
   "metadata": {},
   "outputs": [],
   "source": [
    "line1 = OneLine([0,0, 0,200])\n",
    "c1 = line1.copy()\n",
    "c2 = line1.copy()"
   ]
  },
  {
   "cell_type": "code",
   "execution_count": null,
   "metadata": {},
   "outputs": [
    {
     "data": {
      "text/plain": [
       "(l: [ 10.   0.   0. 200.], ax: 1, l: [  0.   0.   0. 200.], ax: 1)"
      ]
     },
     "execution_count": null,
     "metadata": {},
     "output_type": "execute_result"
    }
   ],
   "source": [
    "c1[0] +=10\n",
    "c1, c2"
   ]
  },
  {
   "cell_type": "code",
   "execution_count": null,
   "metadata": {},
   "outputs": [
    {
     "data": {
      "image/png": "[encoded data removed]",
      "text/plain": [
       "<Figure size 1080x360 with 1 Axes>"
      ]
     },
     "metadata": {
      "needs_background": "light"
     },
     "output_type": "display_data"
    }
   ],
   "source": [
    "line1 = OneLine([0,0, 0,200])\n",
    "line2 = OneLine([-10, 100, 200, 100])\n",
    "plt.figure(figsize=(15,5))\n",
    "plt.subplot(1,4,1)\n",
    "line1.plot()\n",
    "line2.plot()\n",
    "tab_sz =15\n",
    "th = 5\n",
    "s1 = Side(line1, 50,tab_sz, th)\n",
    "s2 = Side(line2, 50, tab_sz, th)"
   ]
  },
  {
   "cell_type": "code",
   "execution_count": null,
   "metadata": {},
   "outputs": [
    {
     "data": {
      "image/png": "[encoded data removed]",
      "text/plain": [
       "<Figure size 432x288 with 1 Axes>"
      ]
     },
     "metadata": {
      "needs_background": "light"
     },
     "output_type": "display_data"
    }
   ],
   "source": [
    "s2.base.plot()\n",
    "s2.r.plot()\n",
    "s2.l.plot()\n",
    "s2.t.plot()"
   ]
  },
  {
   "cell_type": "code",
   "execution_count": null,
   "metadata": {},
   "outputs": [
    {
     "name": "stdout",
     "output_type": "stream",
     "text": [
      "intersection point: (0.0, 100.0), line [-10. 100. 200. 100.]\n",
      "intersection found\n",
      "x\n",
      "2\n",
      "[ 5.  97.5 30.  97.5] [  5.  102.5  30.  102.5] [ 30.   97.5  30.  102.5]\n",
      "intersection point: (100.0, 0.0), line [100. -10. 100. 200.]\n",
      "intersection found\n",
      "y\n",
      "2\n",
      "[102.5  30.  102.5  55. ] [107.5  30.  107.5  55. ] [102.5  30.  107.5  30. ]\n"
     ]
    },
    {
     "data": {
      "image/png": "[encoded data removed]",
      "text/plain": [
       "<Figure size 1080x360 with 4 Axes>"
      ]
     },
     "metadata": {
      "needs_background": "light"
     },
     "output_type": "display_data"
    }
   ],
   "source": [
    "line1 = OneLine([0,0, 0,200])\n",
    "line2 = OneLine([-10, 100, 200, 100])\n",
    "plt.figure(figsize=(15,5))\n",
    "plt.subplot(1,4,1)\n",
    "line1.plot()\n",
    "line2.plot()\n",
    "tab_sz =15\n",
    "th = 5\n",
    "s1 = Side(line1, 50,tab_sz, th)\n",
    "s2 = Side(line2, 50, tab_sz, th)\n",
    "\n",
    "s1.generate_inner_wall()\n",
    "#s1.move(45,70)\n",
    "s1.add_inner_walls(s2)\n",
    "plt.subplot(1,4,2)\n",
    "s1.plot()\n",
    "\n",
    "line1 = np.array([0,0, 200,0])\n",
    "line2 = np.array([100, -10, 100, 200])\n",
    "plt.subplot(1,4,3)\n",
    "plot_lines(np.array([line1, line2]))\n",
    "\n",
    "s1 = Side(line1, 50,tab_sz, th)\n",
    "s2 = Side(line2, 50, tab_sz, th)\n",
    "\n",
    "s1.generate_inner_wall()\n",
    "#s1.move(-20,50)\n",
    "s1.add_inner_walls(s2)\n",
    "plt.subplot(1,4,4)\n",
    "s1.plot()"
   ]
  },
  {
   "cell_type": "code",
   "execution_count": null,
   "metadata": {},
   "outputs": [
    {
     "name": "stdout",
     "output_type": "stream",
     "text": [
      "intersection point: (0.0, 100.0), line [  0. 100. 200. 100.]\n",
      "endpoint found\n"
     ]
    },
    {
     "data": {
      "image/png": "[encoded data removed]",
      "text/plain": [
       "<Figure size 432x288 with 2 Axes>"
      ]
     },
     "metadata": {
      "needs_background": "light"
     },
     "output_type": "display_data"
    }
   ],
   "source": [
    "line1 = np.array([0,-10, 0,200])\n",
    "line2 = np.array([0, 100, 200, 100])\n",
    "plt.figure()\n",
    "plt.subplot(1,2,1)\n",
    "plot_lines(np.array([line1, line2]))\n",
    "\n",
    "s1 = Side(line1, 50,15,5)\n",
    "s2 = Side(line2, 50,15, 5)\n",
    "\n",
    "s1.generate_inner_wall()\n",
    "s1.add_inner_walls(s2)\n",
    "plt.subplot(1,2,2)\n",
    "s1.plot()\n"
   ]
  },
  {
   "cell_type": "markdown",
   "metadata": {},
   "source": [
    "# Inner walls + Holes example"
   ]
  },
  {
   "cell_type": "code",
   "execution_count": null,
   "metadata": {},
   "outputs": [
    {
     "data": {
      "image/png": "[encoded data removed]",
      "text/plain": [
       "<Figure size 1080x1080 with 2 Axes>"
      ]
     },
     "metadata": {
      "needs_background": "light"
     },
     "output_type": "display_data"
    }
   ],
   "source": [
    "\n",
    "l = [0,0, 0, 100]\n",
    "line = [0,50, 50,50]\n",
    "s = Side(l, 50, min_tab_size=15, thick=4)\n",
    "s.generate_inner_wall()\n",
    "s.add_holes(line)\n",
    "plt.figure(figsize=(15,15))\n",
    "plt.subplot(1,2,1)\n",
    "s.plot()\n",
    "\n",
    "l = [0,0, 100, 0]\n",
    "line = [0,25, 100,25]\n",
    "s = Side(l, 50,min_tab_size=15, thick=4 )\n",
    "s.generate_inner_wall()\n",
    "s.add_holes(line)\n",
    "plt.subplot(1,2,2)\n",
    "s.plot()"
   ]
  },
  {
   "cell_type": "markdown",
   "metadata": {},
   "source": [
    "# Outer walls example"
   ]
  },
  {
   "cell_type": "code",
   "execution_count": null,
   "metadata": {},
   "outputs": [
    {
     "data": {
      "image/png": "[encoded data removed]",
      "text/plain": [
       "<Figure size 432x288 with 2 Axes>"
      ]
     },
     "metadata": {
      "needs_background": "light"
     },
     "output_type": "display_data"
    }
   ],
   "source": [
    "l = [0, 0, 200, 0]\n",
    "s = Side(l, 50,7,4)\n",
    "s.generate_outer_wall()\n",
    "plt.subplot(1,2,1)\n",
    "s.plot()\n",
    "\n",
    "l = [0, 0, 0, 200]\n",
    "s = Side(l, 50,7,4)\n",
    "s.generate_outer_wall()\n",
    "plt.subplot(1,2,2)\n",
    "s.plot()"
   ]
  },
  {
   "cell_type": "markdown",
   "metadata": {},
   "source": [
    "# Bottom Side example"
   ]
  },
  {
   "cell_type": "code",
   "execution_count": null,
   "metadata": {},
   "outputs": [
    {
     "data": {
      "image/png": "[encoded data removed]",
      "text/plain": [
       "<Figure size 432x288 with 1 Axes>"
      ]
     },
     "metadata": {
      "needs_background": "light"
     },
     "output_type": "display_data"
    }
   ],
   "source": [
    "l = [0,0,100,0]\n",
    "tab_size = 20\n",
    "thick = 3\n",
    "s = Side(l, 70, tab_size, thick)\n",
    "s.generate_bottomside()\n",
    "s.plot()"
   ]
  },
  {
   "cell_type": "markdown",
   "metadata": {},
   "source": [
    "# Box Generator"
   ]
  },
  {
   "cell_type": "code",
   "execution_count": null,
   "metadata": {},
   "outputs": [],
   "source": [
    "#export\n",
    "def gen_points(x, y):\n",
    "    return [0,0], [0, y], [x, y ], [x, 0]\n",
    "\n",
    "class BoxGen:\n",
    "    def __init__(self, \n",
    "                 playwood_thickness,\n",
    "                x_size_mm, y_size_mm,\n",
    "                height_mm,\n",
    "                min_tabsize_mm=30):\n",
    "        self.thickness = playwood_thickness\n",
    "        self.x = x_size_mm\n",
    "        self.y = y_size_mm\n",
    "        self.height = height_mm\n",
    "        self.min_tabsize = min_tabsize_mm\n",
    "        bottom_line = [0,0, x_size_mm, 0 ]\n",
    "        self.bottom = Side(bottom_line, y_size_mm, min_tabsize_mm, playwood_thickness)\n",
    "        self.bottom.generate_bottomside()\n",
    "        \n",
    "        lr_line = [0,0,0, y_size_mm]\n",
    "        left =  Side(lr_line, height_mm, min_tabsize_mm, playwood_thickness)\n",
    "        left.generate_outer_wall()\n",
    "        left.move(-height_mm, 0)\n",
    "        \n",
    "        right =  Side(lr_line, height_mm, min_tabsize_mm, playwood_thickness)\n",
    "        right.generate_outer_wall()\n",
    "        right.move(-height_mm*2,0)\n",
    "        \n",
    "        \n",
    "        ul_line = [0,0,x_size_mm, 0]\n",
    "        upper =  Side(ul_line, height_mm,min_tabsize_mm, playwood_thickness)\n",
    "        upper.generate_outer_wall()\n",
    "        upper.move(0,-height_mm)\n",
    "        \n",
    "        lower = Side(ul_line, height_mm,min_tabsize_mm, playwood_thickness)\n",
    "        lower.generate_outer_wall()\n",
    "        lower.move(0,-height_mm*2)\n",
    "        \n",
    "        self.outer_walls = [left, right, upper, lower]\n",
    "        self.inner_walls = list()\n",
    "        \n",
    "    \n",
    "    def plot_outline(self):\n",
    "        p1,p2,p3,p4 =gen_points(self.x, self.y)\n",
    "        lines = np.array([p1 + p2, p2+p3, p3+p4, p4+p1])\n",
    "        plot_lines(lines)\n",
    "        for s in self.inner_walls:\n",
    "            plot_lines([s.base])\n",
    "\n",
    "        \n",
    "    def add_innerwall(self, p1,p2):\n",
    "        line = OneLine(p1+p2)\n",
    "        iwall = Side(line, self.height,self.min_tabsize, self.thickness)\n",
    "        iwall.generate_inner_wall()\n",
    "        \n",
    "        self.bottom.add_holes(line)\n",
    "\n",
    "        num = len([s for s in self.inner_walls if s.x_dir==iwall.x_dir])\n",
    "        #else:\n",
    "        x_start = np.min(iwall.result[:,0])\n",
    "        y_start = np.min(iwall.result[:,1])\n",
    "        x,y = -x_start, -y_start        ## hur många\n",
    "        if iwall.x_dir==0:\n",
    "            y+= num*self.height + self.y\n",
    "        else:\n",
    "            x+= num *self.height + self.x\n",
    "        \n",
    "        print(x,y)\n",
    "            \n",
    "        iwall.move(x,y)\n",
    "        self.inner_walls.append(iwall)\n",
    "        for owall in self.outer_walls:\n",
    "            owall.add_inner_walls(iwall)\n",
    "            \n",
    "    def update_inner_walls(self):\n",
    "        for s1 in self.inner_walls:\n",
    "            for s2 in self.inner_walls:\n",
    "                if s1 is s2:\n",
    "                    continue\n",
    "                else:\n",
    "                    print(s1.base, s2.base)\n",
    "                    s1.add_inner_walls(s2)\n",
    "        \n",
    "    def plot(self):\n",
    "        self.bottom.plot()\n",
    "        for i, s in enumerate(self.outer_walls):\n",
    "            s.plot()\n",
    "            \n",
    "        for s in self.inner_walls:\n",
    "            s.plot()\n",
    "    \n",
    "    @staticmethod\n",
    "    def to_dwg(obj, dwg):\n",
    "        for r in obj.result:\n",
    "            dwg.add(dwg.line((r[0]*mm,r[1]*mm),(r[2]*mm,r[3]*mm), stroke=\"#000\"))\n",
    "        \n",
    "    def export_to_svg(self, filename):\n",
    "        dwg = svgwrite.Drawing(filename, profile='tiny')\n",
    "        func1 = partial(self.to_dwg, dwg=dwg)\n",
    "        func1(self.bottom)\n",
    "        list(map(func1, self.outer_walls))\n",
    "        list(map(func1, self.inner_walls))\n",
    "        dwg.save()"
   ]
  },
  {
   "cell_type": "code",
   "execution_count": null,
   "metadata": {},
   "outputs": [
    {
     "name": "stdout",
     "output_type": "stream",
     "text": [
      "96.8 -30.0\n",
      "96.8 -0.0\n",
      "intersection point: (100.0, 0.0), line [100.   0. 100. 100.]\n",
      "endpoint found\n",
      "intersection point: (100.0, 0.0), line [100.   0. 100. 100.]\n",
      "endpoint found\n",
      "-0.0 66.8\n",
      "intersection point: (0.0, 30.0), line [  0.  30. 150.  30.]\n",
      "endpoint found\n",
      "intersection point: (0.0, 30.0), line [  0.  30. 150.  30.]\n",
      "endpoint found\n"
     ]
    }
   ],
   "source": [
    "box = BoxGen(playwood_thickness=3.2,\n",
    "                x_size_mm=150, \n",
    "                y_size_mm=100,\n",
    "                height_mm=50,\n",
    "                min_tabsize_mm=10)\n",
    "\n",
    "box.add_innerwall((50,30), (50,100))\n",
    "box.add_innerwall((100,0), (100,100))\n",
    "box.add_innerwall((0,30), (150,30))\n"
   ]
  },
  {
   "cell_type": "code",
   "execution_count": null,
   "metadata": {},
   "outputs": [
    {
     "name": "stdout",
     "output_type": "stream",
     "text": [
      "[ 50.  30.  50. 100.] [100.   0. 100. 100.]\n",
      "[ 50.  30.  50. 100.] [  0.  30. 150.  30.]\n",
      "[100.   0. 100. 100.] [ 50.  30.  50. 100.]\n",
      "[100.   0. 100. 100.] [  0.  30. 150.  30.]\n",
      "intersection point: (100.0, 30.0), line [  0.  30. 150.  30.]\n",
      "intersection found\n",
      "x\n",
      "2\n",
      "[200.   28.4 225.   28.4] [200.   31.6 225.   31.6] [225.   28.4 225.   31.6]\n",
      "[  0.  30. 150.  30.] [ 50.  30.  50. 100.]\n",
      "intersection point: (50.0, 30.0), line [ 50.  30.  50. 100.]\n",
      "endpoint found\n",
      "[  0.  30. 150.  30.] [100.   0. 100. 100.]\n",
      "intersection point: (100.0, 30.0), line [100.   0. 100. 100.]\n",
      "intersection found\n",
      "y\n",
      "2\n",
      "[101.6 125.  101.6 150. ] [104.8 125.  104.8 150. ] [101.6 125.  104.8 125. ]\n"
     ]
    },
    {
     "data": {
      "image/png": "[encoded data removed]",
      "text/plain": [
       "<Figure size 432x288 with 1 Axes>"
      ]
     },
     "metadata": {
      "needs_background": "light"
     },
     "output_type": "display_data"
    }
   ],
   "source": [
    "box.update_inner_walls()\n",
    "box.plot_outline()"
   ]
  },
  {
   "cell_type": "code",
   "execution_count": null,
   "metadata": {},
   "outputs": [
    {
     "data": {
      "image/png": "[encoded data removed]",
      "text/plain": [
       "<Figure size 432x288 with 1 Axes>"
      ]
     },
     "metadata": {
      "needs_background": "light"
     },
     "output_type": "display_data"
    }
   ],
   "source": [
    "plot_lines([box.inner_walls[0].base,\n",
    "box.inner_walls[1].base])"
   ]
  },
  {
   "cell_type": "code",
   "execution_count": null,
   "metadata": {},
   "outputs": [],
   "source": [
    "# När man skapar innerväggen behöver den flytta sig."
   ]
  },
  {
   "cell_type": "code",
   "execution_count": null,
   "metadata": {},
   "outputs": [],
   "source": [
    "# todo, när man lägger till innerväggar blir håler förskjutna på ytterväggarna."
   ]
  },
  {
   "cell_type": "code",
   "execution_count": null,
   "metadata": {},
   "outputs": [
    {
     "data": {
      "image/png": "[encoded data removed]",
      "text/plain": [
       "<Figure size 1080x1080 with 1 Axes>"
      ]
     },
     "metadata": {
      "needs_background": "light"
     },
     "output_type": "display_data"
    }
   ],
   "source": [
    "plt.figure(figsize=(15,15))\n",
    "box.plot()"
   ]
  },
  {
   "cell_type": "code",
   "execution_count": null,
   "metadata": {},
   "outputs": [],
   "source": [
    "# changing this one too to see if it also need to be chan"
   ]
  }
 ],
 "metadata": {
  "kernelspec": {
   "display_name": "Python 3",
   "language": "python",
   "name": "python3"
  }
 },
 "nbformat": 4,
 "nbformat_minor": 4
}
